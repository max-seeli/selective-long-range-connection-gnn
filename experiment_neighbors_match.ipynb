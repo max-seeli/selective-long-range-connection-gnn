{
  "cells": [
    {
      "cell_type": "markdown",
      "metadata": {
        "id": "cpQFIXWIxIww"
      },
      "source": [
        "# Selective Long-Range Connections in Message Passing Neural Networks\n",
        "In this notebook, we will show that the message passing neural network (MPNN) can be improved upon for problems with a high problem-radius by using a last layer where some select nodes are connected over long distances to nodes otherwise unreachable."
      ]
    },
    {
      "cell_type": "markdown",
      "metadata": {
        "id": "OjcxLunexIwx"
      },
      "source": [
        "## Imports"
      ]
    },
    {
      "cell_type": "code",
      "execution_count": 1,
      "metadata": {
        "colab": {
          "base_uri": "https://localhost:8080/"
        },
        "id": "26WjoP9X6vzy",
        "outputId": "6d77acab-0e7e-48d5-dead-d9d73d4a78da"
      },
      "outputs": [],
      "source": [
        "#!pip install -q git+https://github.com/pyg-team/pytorch_geometric.git\n",
        "#!pip install torchmetrics\n",
        "#!wget https://raw.githubusercontent.com/max-seeli/selective-long-range-connection-gnn/main/slrc.py"
      ]
    },
    {
      "cell_type": "code",
      "execution_count": 2,
      "metadata": {},
      "outputs": [],
      "source": [
        "#!rm -rf /tmp/neighbors_match"
      ]
    },
    {
      "cell_type": "code",
      "execution_count": 3,
      "metadata": {
        "colab": {
          "base_uri": "https://localhost:8080/",
          "height": 524
        },
        "id": "yiDapOslxIwy",
        "outputId": "e4efde74-6ddb-485a-b54d-c233cbddd010"
      },
      "outputs": [
        {
          "name": "stderr",
          "output_type": "stream",
          "text": [
            "/home/maxl/anaconda3/envs/selective-long-range-connection-gnn/lib/python3.10/site-packages/tqdm/auto.py:21: TqdmWarning: IProgress not found. Please update jupyter and ipywidgets. See https://ipywidgets.readthedocs.io/en/stable/user_install.html\n",
            "  from .autonotebook import tqdm as notebook_tqdm\n"
          ]
        },
        {
          "name": "stdout",
          "output_type": "stream",
          "text": [
            "Device: cpu\n"
          ]
        }
      ],
      "source": [
        "from itertools import combinations\n",
        "from tqdm import tqdm\n",
        "\n",
        "import torch\n",
        "from torch import nn\n",
        "from torch.nn import functional as F\n",
        "torch.manual_seed(0)\n",
        "device = torch.device('cuda' if torch.cuda.is_available() else 'cpu')\n",
        "print(\"Device:\", device)\n",
        "\n",
        "import torch_geometric\n",
        "from torch_geometric import nn as gnn\n",
        "from torch_geometric.nn import GCNConv\n",
        "from torch_geometric.loader import DataLoader\n",
        "from torch_geometric.data import InMemoryDataset\n",
        "\n",
        "from torchmetrics import Accuracy\n",
        "\n",
        "from sklearn.model_selection import KFold\n",
        "\n",
        "import slrc\n",
        "import neighbors_match\n",
        "\n",
        "import pickle"
      ]
    },
    {
      "cell_type": "markdown",
      "metadata": {
        "id": "uyZ5xwi4xIwy"
      },
      "source": [
        "## Data"
      ]
    },
    {
      "cell_type": "code",
      "execution_count": 4,
      "metadata": {
        "colab": {
          "base_uri": "https://localhost:8080/",
          "height": 411
        },
        "id": "kaJ7WQASxIwz",
        "outputId": "cd9fefcf-86f1-489c-d3c4-042f4f042c56"
      },
      "outputs": [
        {
          "name": "stderr",
          "output_type": "stream",
          "text": [
            "Generating Trees:   6%|▌         | 19999/322560 [00:41<10:30, 479.66it/s] \n",
            "Processing...\n",
            "/home/maxl/anaconda3/envs/selective-long-range-connection-gnn/lib/python3.10/site-packages/torch_geometric/utils/convert.py:260: UserWarning: To copy construct from a tensor, it is recommended to use sourceTensor.clone().detach() or sourceTensor.clone().detach().requires_grad_(True), rather than torch.tensor(sourceTensor).\n",
            "  data[key] = torch.tensor(value)\n",
            "Done!\n"
          ]
        }
      ],
      "source": [
        "def data_preprocessing(data):\n",
        "    data.x = data.x.float()\n",
        "\n",
        "    # Note: it is important for the graph mini-batch, that 'index' is contained in the name.\n",
        "    data.k_hop_edge_index = slrc.create_k_hop_graph(data, k=3).edge_index\n",
        "\n",
        "    data.to(device)\n",
        "    return data\n",
        "\n",
        "class NeighborsMatch(InMemoryDataset):\n",
        "    def __init__(self, root, d, n, transform=None, pre_transform=None, pre_filter=None):\n",
        "        self.d = d\n",
        "        self.n = min(n, neighbors_match.num_graphs(d))\n",
        "\n",
        "        super().__init__(root, transform, pre_transform, pre_filter)\n",
        "        self.load(self.processed_paths[0])\n",
        "\n",
        "    @property\n",
        "    def raw_file_names(self):\n",
        "        return ['neighbors_match.pkl']\n",
        "    \n",
        "    @property\n",
        "    def processed_file_names(self):\n",
        "        return ['neighbors_match.pt']\n",
        "    \n",
        "    def download(self):\n",
        "        neighbors_match_graphs = neighbors_match.create_all_tree_neighbors_match_graph(self.d)\n",
        "        selected_graphs = []\n",
        "\n",
        "        for graph in neighbors_match_graphs:\n",
        "            selected_graphs.append(graph)\n",
        "            if len(selected_graphs) >= self.n:\n",
        "                break\n",
        "\n",
        "        with open(self.raw_paths[0], 'wb') as f:\n",
        "            pickle.dump(selected_graphs, f)\n",
        "\n",
        "\n",
        "    def process(self):\n",
        "        \n",
        "        with open(self.raw_paths[0], 'rb') as f:\n",
        "            nx_graphs = pickle.load(f)\n",
        "        \n",
        "        data_list = []\n",
        "        for G in nx_graphs:\n",
        "            data = torch_geometric.utils.from_networkx(G, group_node_attrs=['x'])\n",
        "            data_list.append(data)\n",
        "        \n",
        "        if self.pre_filter is not None:\n",
        "            data_list = [data for data in data_list if self.pre_filter(data)]\n",
        "\n",
        "        if self.pre_transform is not None:\n",
        "            data_list = [self.pre_transform(data) for data in data_list]\n",
        "\n",
        "        self.save(data_list, self.processed_paths[0])\n",
        "\n",
        "dataset = NeighborsMatch(root='/tmp/neighbors_match', d=3, n=20000, pre_transform=data_preprocessing)    "
      ]
    },
    {
      "cell_type": "markdown",
      "metadata": {
        "id": "x0ZHaiOCxIw0"
      },
      "source": [
        "## Model"
      ]
    },
    {
      "cell_type": "code",
      "execution_count": 5,
      "metadata": {
        "id": "zF4v6OckxIw0"
      },
      "outputs": [],
      "source": [
        "class SimpleGNN(nn.Module):\n",
        "\n",
        "    def __init__(self, num_node_features, hidden_channels, transfer_size, dense_layers, num_classes, dropout):\n",
        "        super(SimpleGNN, self).__init__()\n",
        "\n",
        "        self.convs = nn.ModuleList()\n",
        "        self.convs.append(GCNConv(num_node_features, hidden_channels[0]))\n",
        "        for i in range(1, len(hidden_channels)):\n",
        "            self.convs.append(GCNConv(hidden_channels[i-1], hidden_channels[i]))\n",
        "        self.convs.append(GCNConv(hidden_channels[-1], transfer_size))\n",
        "\n",
        "        self.dense = nn.ModuleList()\n",
        "        self.dense.append(nn.Linear(transfer_size, dense_layers[0]))\n",
        "        for i in range(1, len(dense_layers)):\n",
        "            self.dense.append(nn.Linear(dense_layers[i-1], dense_layers[i]))\n",
        "        self.dense.append(nn.Linear(dense_layers[-1], num_classes))\n",
        "\n",
        "        self.dropout = dropout\n",
        "\n",
        "    def forward(self, data):\n",
        "        x, edge_index, batch = data.x, data.edge_index, data.batch\n",
        "\n",
        "        for conv in self.convs[:-1]:\n",
        "            x = conv(x, edge_index)\n",
        "            x = F.relu(x)\n",
        "            x = F.dropout(x, p=self.dropout, training=self.training)\n",
        "\n",
        "        x = self.convs[-1](x, self.get_last_layer_edge_index(data))\n",
        "        x = F.relu(x)\n",
        "        x = gnn.global_mean_pool(x, batch)\n",
        "\n",
        "        for dense in self.dense[:-1]:\n",
        "            x = dense(x)\n",
        "            x = F.relu(x)\n",
        "            x = F.dropout(x, p=self.dropout, training=self.training)\n",
        "\n",
        "        x = self.dense[-1](x)\n",
        "\n",
        "        return x.squeeze(-1)\n",
        "\n",
        "    def get_last_layer_edge_index(self, data):\n",
        "        return data.edge_index"
      ]
    },
    {
      "cell_type": "code",
      "execution_count": 6,
      "metadata": {
        "id": "dBdtIXuoAhea"
      },
      "outputs": [],
      "source": [
        "class SlrcGNN(SimpleGNN):\n",
        "\n",
        "    def get_last_layer_edge_index(self, data):\n",
        "        return data.k_hop_edge_index"
      ]
    },
    {
      "cell_type": "code",
      "execution_count": 7,
      "metadata": {
        "id": "0bZJZl2dxIw1"
      },
      "outputs": [],
      "source": [
        "def train(model, train_loader, optimizer, criterion, epoch):\n",
        "    model.train()\n",
        "\n",
        "    for batch in train_loader:\n",
        "        optimizer.zero_grad()\n",
        "        out = model(batch)\n",
        "        loss = criterion(out, batch.y.float())\n",
        "        loss.backward()\n",
        "        optimizer.step()\n",
        "\n",
        "def test(model, test_loader):\n",
        "    model.eval()\n",
        "\n",
        "    acc = Accuracy(task='multiclass', num_classes=8).to(device)\n",
        "    for batch in test_loader:\n",
        "        out = model(batch)\n",
        "        \n",
        "        true = torch.argmax(batch.y, dim=1)\n",
        "        pred = torch.argmax(out, dim=1)\n",
        "        acc(pred, true)\n",
        "    return acc.compute()\n",
        "\n",
        "\n",
        "def eval(dataset, isSelective, params, k=5):\n",
        "\n",
        "    kfold = KFold(n_splits=k, shuffle=True, random_state=42)\n",
        "\n",
        "    fold_acc = []\n",
        "    for fold, (train_idx, val_idx) in enumerate(kfold.split(dataset)):\n",
        "        print(f'@ Fold {fold}')\n",
        "        train_subset = torch.utils.data.Subset(dataset, train_idx)\n",
        "        val_subset = torch.utils.data.Subset(dataset, val_idx)\n",
        "\n",
        "        train_loader = DataLoader(train_subset, batch_size=32, shuffle=True)\n",
        "        val_loader = DataLoader(val_subset, batch_size=32, shuffle=False)\n",
        "\n",
        "        fold_model = SlrcGNN(**params) if isSelective else SimpleGNN(**params)\n",
        "        fold_model.to(device)\n",
        "\n",
        "        optimizer = torch.optim.Adam(fold_model.parameters(), lr=0.01, weight_decay=5e-4)\n",
        "        criterion = nn.MSELoss()\n",
        "\n",
        "\n",
        "        best_acc = float('-inf')\n",
        "        for epoch in range(1, 201):\n",
        "            train(fold_model, train_loader, optimizer, criterion, epoch)\n",
        "\n",
        "            with torch.no_grad():\n",
        "                test_acc = test(fold_model, val_loader)\n",
        "                best_acc = max(best_acc, test_acc)\n",
        "                print(f'Epoch: {epoch:03d}, Test ACC: {test_acc:.4f}')\n",
        "\n",
        "            torch.cuda.empty_cache()\n",
        "\n",
        "        fold_acc.append(best_acc)\n",
        "        print()\n",
        "\n",
        "    return min(fold_acc), sum(fold_acc) / len(fold_acc), fold_acc"
      ]
    },
    {
      "cell_type": "code",
      "execution_count": 8,
      "metadata": {
        "id": "htNF9CEP5i1J"
      },
      "outputs": [],
      "source": [
        "params = {\n",
        "    'num_node_features': dataset.num_node_features,\n",
        "    'hidden_channels': [64] * 2,\n",
        "    'transfer_size': 64,\n",
        "    'dense_layers': [64],\n",
        "    'num_classes': dataset.num_classes,\n",
        "    'dropout': 0.0\n",
        "}"
      ]
    },
    {
      "cell_type": "code",
      "execution_count": 9,
      "metadata": {
        "id": "QUfIS0Qa6AIn"
      },
      "outputs": [
        {
          "name": "stdout",
          "output_type": "stream",
          "text": [
            "@ Fold 0\n"
          ]
        },
        {
          "name": "stdout",
          "output_type": "stream",
          "text": [
            "Epoch: 001, Test ACC: 0.1280\n",
            "Epoch: 002, Test ACC: 0.1280\n",
            "Epoch: 003, Test ACC: 0.1233\n",
            "Epoch: 004, Test ACC: 0.1233\n",
            "Epoch: 005, Test ACC: 0.1233\n",
            "Epoch: 006, Test ACC: 0.1255\n",
            "Epoch: 007, Test ACC: 0.1318\n",
            "Epoch: 008, Test ACC: 0.1280\n",
            "Epoch: 009, Test ACC: 0.1287\n"
          ]
        }
      ],
      "source": [
        "best_slrc, avg_slrc, all_slrc = eval(dataset, True, params)\n",
        "print('-' * 64)\n",
        "print(f'Best: {best_slrc}, Avg: {avg_slrc}, Per fold: {all_slrc}')"
      ]
    },
    {
      "cell_type": "code",
      "execution_count": null,
      "metadata": {
        "id": "hg3TpJ7j6gXb"
      },
      "outputs": [
        {
          "name": "stdout",
          "output_type": "stream",
          "text": [
            "@ Fold 0\n",
            "torch.Size([32, 8]) torch.Size([32, 8])\n",
            "torch.Size([32, 8]) torch.Size([32, 8])\n",
            "torch.Size([32, 8]) torch.Size([32, 8])\n",
            "torch.Size([32, 8]) torch.Size([32, 8])\n",
            "torch.Size([32, 8]) torch.Size([32, 8])\n",
            "torch.Size([32, 8]) torch.Size([32, 8])\n",
            "torch.Size([32, 8]) torch.Size([32, 8])\n",
            "torch.Size([32, 8]) torch.Size([32, 8])\n",
            "torch.Size([32, 8]) torch.Size([32, 8])\n",
            "torch.Size([32, 8]) torch.Size([32, 8])\n",
            "torch.Size([32, 8]) torch.Size([32, 8])\n",
            "torch.Size([32, 8]) torch.Size([32, 8])\n",
            "torch.Size([32, 8]) torch.Size([32, 8])\n",
            "torch.Size([32, 8]) torch.Size([32, 8])\n",
            "torch.Size([32, 8]) torch.Size([32, 8])\n",
            "torch.Size([32, 8]) torch.Size([32, 8])\n",
            "torch.Size([32, 8]) torch.Size([32, 8])\n",
            "torch.Size([32, 8]) torch.Size([32, 8])\n",
            "torch.Size([32, 8]) torch.Size([32, 8])\n",
            "torch.Size([32, 8]) torch.Size([32, 8])\n",
            "torch.Size([32, 8]) torch.Size([32, 8])\n",
            "torch.Size([32, 8]) torch.Size([32, 8])\n",
            "torch.Size([32, 8]) torch.Size([32, 8])\n",
            "torch.Size([32, 8]) torch.Size([32, 8])\n",
            "torch.Size([32, 8]) torch.Size([32, 8])\n",
            "Epoch: 001, Test ACC: 1.0000\n",
            "torch.Size([32, 8]) torch.Size([32, 8])\n",
            "torch.Size([32, 8]) torch.Size([32, 8])\n",
            "torch.Size([32, 8]) torch.Size([32, 8])\n",
            "torch.Size([32, 8]) torch.Size([32, 8])\n",
            "torch.Size([32, 8]) torch.Size([32, 8])\n",
            "torch.Size([32, 8]) torch.Size([32, 8])\n",
            "torch.Size([32, 8]) torch.Size([32, 8])\n",
            "torch.Size([32, 8]) torch.Size([32, 8])\n",
            "torch.Size([32, 8]) torch.Size([32, 8])\n",
            "torch.Size([32, 8]) torch.Size([32, 8])\n",
            "torch.Size([32, 8]) torch.Size([32, 8])\n",
            "torch.Size([32, 8]) torch.Size([32, 8])\n",
            "torch.Size([32, 8]) torch.Size([32, 8])\n",
            "torch.Size([32, 8]) torch.Size([32, 8])\n",
            "torch.Size([32, 8]) torch.Size([32, 8])\n",
            "torch.Size([32, 8]) torch.Size([32, 8])\n",
            "torch.Size([32, 8]) torch.Size([32, 8])\n",
            "torch.Size([32, 8]) torch.Size([32, 8])\n",
            "torch.Size([32, 8]) torch.Size([32, 8])\n",
            "torch.Size([32, 8]) torch.Size([32, 8])\n",
            "torch.Size([32, 8]) torch.Size([32, 8])\n",
            "torch.Size([32, 8]) torch.Size([32, 8])\n",
            "torch.Size([32, 8]) torch.Size([32, 8])\n",
            "torch.Size([32, 8]) torch.Size([32, 8])\n",
            "torch.Size([32, 8]) torch.Size([32, 8])\n",
            "Epoch: 002, Test ACC: 1.0000\n",
            "torch.Size([32, 8]) torch.Size([32, 8])\n",
            "torch.Size([32, 8]) torch.Size([32, 8])\n",
            "torch.Size([32, 8]) torch.Size([32, 8])\n",
            "torch.Size([32, 8]) torch.Size([32, 8])\n",
            "torch.Size([32, 8]) torch.Size([32, 8])\n",
            "torch.Size([32, 8]) torch.Size([32, 8])\n",
            "torch.Size([32, 8]) torch.Size([32, 8])\n",
            "torch.Size([32, 8]) torch.Size([32, 8])\n",
            "torch.Size([32, 8]) torch.Size([32, 8])\n",
            "torch.Size([32, 8]) torch.Size([32, 8])\n",
            "torch.Size([32, 8]) torch.Size([32, 8])\n",
            "torch.Size([32, 8]) torch.Size([32, 8])\n",
            "torch.Size([32, 8]) torch.Size([32, 8])\n",
            "torch.Size([32, 8]) torch.Size([32, 8])\n",
            "torch.Size([32, 8]) torch.Size([32, 8])\n",
            "torch.Size([32, 8]) torch.Size([32, 8])\n",
            "torch.Size([32, 8]) torch.Size([32, 8])\n",
            "torch.Size([32, 8]) torch.Size([32, 8])\n",
            "torch.Size([32, 8]) torch.Size([32, 8])\n",
            "torch.Size([32, 8]) torch.Size([32, 8])\n",
            "torch.Size([32, 8]) torch.Size([32, 8])\n",
            "torch.Size([32, 8]) torch.Size([32, 8])\n",
            "torch.Size([32, 8]) torch.Size([32, 8])\n",
            "torch.Size([32, 8]) torch.Size([32, 8])\n",
            "torch.Size([32, 8]) torch.Size([32, 8])\n",
            "Epoch: 003, Test ACC: 1.0000\n",
            "torch.Size([32, 8]) torch.Size([32, 8])\n",
            "torch.Size([32, 8]) torch.Size([32, 8])\n",
            "torch.Size([32, 8]) torch.Size([32, 8])\n",
            "torch.Size([32, 8]) torch.Size([32, 8])\n",
            "torch.Size([32, 8]) torch.Size([32, 8])\n",
            "torch.Size([32, 8]) torch.Size([32, 8])\n",
            "torch.Size([32, 8]) torch.Size([32, 8])\n",
            "torch.Size([32, 8]) torch.Size([32, 8])\n",
            "torch.Size([32, 8]) torch.Size([32, 8])\n",
            "torch.Size([32, 8]) torch.Size([32, 8])\n",
            "torch.Size([32, 8]) torch.Size([32, 8])\n",
            "torch.Size([32, 8]) torch.Size([32, 8])\n",
            "torch.Size([32, 8]) torch.Size([32, 8])\n",
            "torch.Size([32, 8]) torch.Size([32, 8])\n",
            "torch.Size([32, 8]) torch.Size([32, 8])\n",
            "torch.Size([32, 8]) torch.Size([32, 8])\n",
            "torch.Size([32, 8]) torch.Size([32, 8])\n",
            "torch.Size([32, 8]) torch.Size([32, 8])\n",
            "torch.Size([32, 8]) torch.Size([32, 8])\n",
            "torch.Size([32, 8]) torch.Size([32, 8])\n",
            "torch.Size([32, 8]) torch.Size([32, 8])\n",
            "torch.Size([32, 8]) torch.Size([32, 8])\n",
            "torch.Size([32, 8]) torch.Size([32, 8])\n",
            "torch.Size([32, 8]) torch.Size([32, 8])\n",
            "torch.Size([32, 8]) torch.Size([32, 8])\n",
            "Epoch: 004, Test ACC: 1.0000\n",
            "torch.Size([32, 8]) torch.Size([32, 8])\n",
            "torch.Size([32, 8]) torch.Size([32, 8])\n",
            "torch.Size([32, 8]) torch.Size([32, 8])\n",
            "torch.Size([32, 8]) torch.Size([32, 8])\n",
            "torch.Size([32, 8]) torch.Size([32, 8])\n",
            "torch.Size([32, 8]) torch.Size([32, 8])\n",
            "torch.Size([32, 8]) torch.Size([32, 8])\n",
            "torch.Size([32, 8]) torch.Size([32, 8])\n",
            "torch.Size([32, 8]) torch.Size([32, 8])\n",
            "torch.Size([32, 8]) torch.Size([32, 8])\n",
            "torch.Size([32, 8]) torch.Size([32, 8])\n",
            "torch.Size([32, 8]) torch.Size([32, 8])\n",
            "torch.Size([32, 8]) torch.Size([32, 8])\n",
            "torch.Size([32, 8]) torch.Size([32, 8])\n",
            "torch.Size([32, 8]) torch.Size([32, 8])\n",
            "torch.Size([32, 8]) torch.Size([32, 8])\n",
            "torch.Size([32, 8]) torch.Size([32, 8])\n",
            "torch.Size([32, 8]) torch.Size([32, 8])\n",
            "torch.Size([32, 8]) torch.Size([32, 8])\n",
            "torch.Size([32, 8]) torch.Size([32, 8])\n",
            "torch.Size([32, 8]) torch.Size([32, 8])\n",
            "torch.Size([32, 8]) torch.Size([32, 8])\n",
            "torch.Size([32, 8]) torch.Size([32, 8])\n",
            "torch.Size([32, 8]) torch.Size([32, 8])\n",
            "torch.Size([32, 8]) torch.Size([32, 8])\n",
            "Epoch: 005, Test ACC: 1.0000\n",
            "torch.Size([32, 8]) torch.Size([32, 8])\n",
            "torch.Size([32, 8]) torch.Size([32, 8])\n",
            "torch.Size([32, 8]) torch.Size([32, 8])\n",
            "torch.Size([32, 8]) torch.Size([32, 8])\n",
            "torch.Size([32, 8]) torch.Size([32, 8])\n",
            "torch.Size([32, 8]) torch.Size([32, 8])\n",
            "torch.Size([32, 8]) torch.Size([32, 8])\n",
            "torch.Size([32, 8]) torch.Size([32, 8])\n",
            "torch.Size([32, 8]) torch.Size([32, 8])\n",
            "torch.Size([32, 8]) torch.Size([32, 8])\n",
            "torch.Size([32, 8]) torch.Size([32, 8])\n",
            "torch.Size([32, 8]) torch.Size([32, 8])\n",
            "torch.Size([32, 8]) torch.Size([32, 8])\n",
            "torch.Size([32, 8]) torch.Size([32, 8])\n",
            "torch.Size([32, 8]) torch.Size([32, 8])\n",
            "torch.Size([32, 8]) torch.Size([32, 8])\n",
            "torch.Size([32, 8]) torch.Size([32, 8])\n",
            "torch.Size([32, 8]) torch.Size([32, 8])\n",
            "torch.Size([32, 8]) torch.Size([32, 8])\n",
            "torch.Size([32, 8]) torch.Size([32, 8])\n",
            "torch.Size([32, 8]) torch.Size([32, 8])\n",
            "torch.Size([32, 8]) torch.Size([32, 8])\n",
            "torch.Size([32, 8]) torch.Size([32, 8])\n",
            "torch.Size([32, 8]) torch.Size([32, 8])\n"
          ]
        },
        {
          "ename": "KeyboardInterrupt",
          "evalue": "",
          "output_type": "error",
          "traceback": [
            "\u001b[0;31m---------------------------------------------------------------------------\u001b[0m",
            "\u001b[0;31mKeyboardInterrupt\u001b[0m                         Traceback (most recent call last)",
            "Cell \u001b[0;32mIn[12], line 1\u001b[0m\n\u001b[0;32m----> 1\u001b[0m best_simple, avg_simple, all_simple \u001b[38;5;241m=\u001b[39m \u001b[38;5;28;43meval\u001b[39;49m\u001b[43m(\u001b[49m\u001b[43mdataset\u001b[49m\u001b[43m,\u001b[49m\u001b[43m \u001b[49m\u001b[38;5;28;43;01mFalse\u001b[39;49;00m\u001b[43m,\u001b[49m\u001b[43m \u001b[49m\u001b[43mparams\u001b[49m\u001b[43m)\u001b[49m\n\u001b[1;32m      2\u001b[0m \u001b[38;5;28mprint\u001b[39m(\u001b[38;5;124m'\u001b[39m\u001b[38;5;124m-\u001b[39m\u001b[38;5;124m'\u001b[39m \u001b[38;5;241m*\u001b[39m \u001b[38;5;241m64\u001b[39m)\n\u001b[1;32m      3\u001b[0m \u001b[38;5;28mprint\u001b[39m(\u001b[38;5;124mf\u001b[39m\u001b[38;5;124m'\u001b[39m\u001b[38;5;124mBest: \u001b[39m\u001b[38;5;132;01m{\u001b[39;00mbest_simple\u001b[38;5;132;01m}\u001b[39;00m\u001b[38;5;124m, Avg: \u001b[39m\u001b[38;5;132;01m{\u001b[39;00mavg_simple\u001b[38;5;132;01m}\u001b[39;00m\u001b[38;5;124m, Per fold: \u001b[39m\u001b[38;5;132;01m{\u001b[39;00mall_simple\u001b[38;5;132;01m}\u001b[39;00m\u001b[38;5;124m'\u001b[39m)\n",
            "Cell \u001b[0;32mIn[10], line 47\u001b[0m, in \u001b[0;36meval\u001b[0;34m(dataset, isSelective, params, k)\u001b[0m\n\u001b[1;32m     45\u001b[0m best_acc \u001b[38;5;241m=\u001b[39m \u001b[38;5;28mfloat\u001b[39m(\u001b[38;5;124m'\u001b[39m\u001b[38;5;124m-inf\u001b[39m\u001b[38;5;124m'\u001b[39m)\n\u001b[1;32m     46\u001b[0m \u001b[38;5;28;01mfor\u001b[39;00m epoch \u001b[38;5;129;01min\u001b[39;00m \u001b[38;5;28mrange\u001b[39m(\u001b[38;5;241m1\u001b[39m, \u001b[38;5;241m201\u001b[39m):\n\u001b[0;32m---> 47\u001b[0m     \u001b[43mtrain\u001b[49m\u001b[43m(\u001b[49m\u001b[43mfold_model\u001b[49m\u001b[43m,\u001b[49m\u001b[43m \u001b[49m\u001b[43mtrain_loader\u001b[49m\u001b[43m,\u001b[49m\u001b[43m \u001b[49m\u001b[43moptimizer\u001b[49m\u001b[43m,\u001b[49m\u001b[43m \u001b[49m\u001b[43mcriterion\u001b[49m\u001b[43m,\u001b[49m\u001b[43m \u001b[49m\u001b[43mepoch\u001b[49m\u001b[43m)\u001b[49m\n\u001b[1;32m     49\u001b[0m     \u001b[38;5;28;01mwith\u001b[39;00m torch\u001b[38;5;241m.\u001b[39mno_grad():\n\u001b[1;32m     50\u001b[0m         test_acc \u001b[38;5;241m=\u001b[39m test(fold_model, val_loader)\n",
            "Cell \u001b[0;32mIn[10], line 6\u001b[0m, in \u001b[0;36mtrain\u001b[0;34m(model, train_loader, optimizer, criterion, epoch)\u001b[0m\n\u001b[1;32m      4\u001b[0m \u001b[38;5;28;01mfor\u001b[39;00m batch \u001b[38;5;129;01min\u001b[39;00m train_loader:\n\u001b[1;32m      5\u001b[0m     optimizer\u001b[38;5;241m.\u001b[39mzero_grad()\n\u001b[0;32m----> 6\u001b[0m     out \u001b[38;5;241m=\u001b[39m \u001b[43mmodel\u001b[49m\u001b[43m(\u001b[49m\u001b[43mbatch\u001b[49m\u001b[43m)\u001b[49m\n\u001b[1;32m      7\u001b[0m     \u001b[38;5;28mprint\u001b[39m(out\u001b[38;5;241m.\u001b[39mshape, batch\u001b[38;5;241m.\u001b[39my\u001b[38;5;241m.\u001b[39mshape)\n\u001b[1;32m      8\u001b[0m     loss \u001b[38;5;241m=\u001b[39m criterion(out, batch\u001b[38;5;241m.\u001b[39my\u001b[38;5;241m.\u001b[39mfloat())\n",
            "File \u001b[0;32m~/anaconda3/envs/selective-long-range-connection-gnn/lib/python3.10/site-packages/torch/nn/modules/module.py:1130\u001b[0m, in \u001b[0;36mModule._call_impl\u001b[0;34m(self, *input, **kwargs)\u001b[0m\n\u001b[1;32m   1126\u001b[0m \u001b[38;5;66;03m# If we don't have any hooks, we want to skip the rest of the logic in\u001b[39;00m\n\u001b[1;32m   1127\u001b[0m \u001b[38;5;66;03m# this function, and just call forward.\u001b[39;00m\n\u001b[1;32m   1128\u001b[0m \u001b[38;5;28;01mif\u001b[39;00m \u001b[38;5;129;01mnot\u001b[39;00m (\u001b[38;5;28mself\u001b[39m\u001b[38;5;241m.\u001b[39m_backward_hooks \u001b[38;5;129;01mor\u001b[39;00m \u001b[38;5;28mself\u001b[39m\u001b[38;5;241m.\u001b[39m_forward_hooks \u001b[38;5;129;01mor\u001b[39;00m \u001b[38;5;28mself\u001b[39m\u001b[38;5;241m.\u001b[39m_forward_pre_hooks \u001b[38;5;129;01mor\u001b[39;00m _global_backward_hooks\n\u001b[1;32m   1129\u001b[0m         \u001b[38;5;129;01mor\u001b[39;00m _global_forward_hooks \u001b[38;5;129;01mor\u001b[39;00m _global_forward_pre_hooks):\n\u001b[0;32m-> 1130\u001b[0m     \u001b[38;5;28;01mreturn\u001b[39;00m \u001b[43mforward_call\u001b[49m\u001b[43m(\u001b[49m\u001b[38;5;241;43m*\u001b[39;49m\u001b[38;5;28;43minput\u001b[39;49m\u001b[43m,\u001b[49m\u001b[43m \u001b[49m\u001b[38;5;241;43m*\u001b[39;49m\u001b[38;5;241;43m*\u001b[39;49m\u001b[43mkwargs\u001b[49m\u001b[43m)\u001b[49m\n\u001b[1;32m   1131\u001b[0m \u001b[38;5;66;03m# Do not call functions when jit is used\u001b[39;00m\n\u001b[1;32m   1132\u001b[0m full_backward_hooks, non_full_backward_hooks \u001b[38;5;241m=\u001b[39m [], []\n",
            "Cell \u001b[0;32mIn[5], line 30\u001b[0m, in \u001b[0;36mSimpleGNN.forward\u001b[0;34m(self, data)\u001b[0m\n\u001b[1;32m     28\u001b[0m x \u001b[38;5;241m=\u001b[39m \u001b[38;5;28mself\u001b[39m\u001b[38;5;241m.\u001b[39mconvs[\u001b[38;5;241m-\u001b[39m\u001b[38;5;241m1\u001b[39m](x, \u001b[38;5;28mself\u001b[39m\u001b[38;5;241m.\u001b[39mget_last_layer_edge_index(data))\n\u001b[1;32m     29\u001b[0m x \u001b[38;5;241m=\u001b[39m F\u001b[38;5;241m.\u001b[39mrelu(x)\n\u001b[0;32m---> 30\u001b[0m x \u001b[38;5;241m=\u001b[39m \u001b[43mgnn\u001b[49m\u001b[38;5;241;43m.\u001b[39;49m\u001b[43mglobal_mean_pool\u001b[49m\u001b[43m(\u001b[49m\u001b[43mx\u001b[49m\u001b[43m,\u001b[49m\u001b[43m \u001b[49m\u001b[43mbatch\u001b[49m\u001b[43m)\u001b[49m\n\u001b[1;32m     32\u001b[0m \u001b[38;5;28;01mfor\u001b[39;00m dense \u001b[38;5;129;01min\u001b[39;00m \u001b[38;5;28mself\u001b[39m\u001b[38;5;241m.\u001b[39mdense[:\u001b[38;5;241m-\u001b[39m\u001b[38;5;241m1\u001b[39m]:\n\u001b[1;32m     33\u001b[0m     x \u001b[38;5;241m=\u001b[39m dense(x)\n",
            "File \u001b[0;32m~/anaconda3/envs/selective-long-range-connection-gnn/lib/python3.10/site-packages/torch_geometric/nn/pool/glob.py:61\u001b[0m, in \u001b[0;36mglobal_mean_pool\u001b[0;34m(x, batch, size)\u001b[0m\n\u001b[1;32m     59\u001b[0m \u001b[38;5;28;01mif\u001b[39;00m batch \u001b[38;5;129;01mis\u001b[39;00m \u001b[38;5;28;01mNone\u001b[39;00m:\n\u001b[1;32m     60\u001b[0m     \u001b[38;5;28;01mreturn\u001b[39;00m x\u001b[38;5;241m.\u001b[39mmean(dim\u001b[38;5;241m=\u001b[39mdim, keepdim\u001b[38;5;241m=\u001b[39mx\u001b[38;5;241m.\u001b[39mdim() \u001b[38;5;241m<\u001b[39m\u001b[38;5;241m=\u001b[39m \u001b[38;5;241m2\u001b[39m)\n\u001b[0;32m---> 61\u001b[0m \u001b[38;5;28;01mreturn\u001b[39;00m \u001b[43mscatter\u001b[49m\u001b[43m(\u001b[49m\u001b[43mx\u001b[49m\u001b[43m,\u001b[49m\u001b[43m \u001b[49m\u001b[43mbatch\u001b[49m\u001b[43m,\u001b[49m\u001b[43m \u001b[49m\u001b[43mdim\u001b[49m\u001b[38;5;241;43m=\u001b[39;49m\u001b[43mdim\u001b[49m\u001b[43m,\u001b[49m\u001b[43m \u001b[49m\u001b[43mdim_size\u001b[49m\u001b[38;5;241;43m=\u001b[39;49m\u001b[43msize\u001b[49m\u001b[43m,\u001b[49m\u001b[43m \u001b[49m\u001b[43mreduce\u001b[49m\u001b[38;5;241;43m=\u001b[39;49m\u001b[38;5;124;43m'\u001b[39;49m\u001b[38;5;124;43mmean\u001b[39;49m\u001b[38;5;124;43m'\u001b[39;49m\u001b[43m)\u001b[49m\n",
            "File \u001b[0;32m~/anaconda3/envs/selective-long-range-connection-gnn/lib/python3.10/site-packages/torch_geometric/utils/scatter.py:78\u001b[0m, in \u001b[0;36mscatter\u001b[0;34m(src, index, dim, dim_size, reduce)\u001b[0m\n\u001b[1;32m     75\u001b[0m     count \u001b[38;5;241m=\u001b[39m count\u001b[38;5;241m.\u001b[39mclamp(\u001b[38;5;28mmin\u001b[39m\u001b[38;5;241m=\u001b[39m\u001b[38;5;241m1\u001b[39m)\n\u001b[1;32m     77\u001b[0m     index \u001b[38;5;241m=\u001b[39m broadcast(index, src, dim)\n\u001b[0;32m---> 78\u001b[0m     out \u001b[38;5;241m=\u001b[39m \u001b[43msrc\u001b[49m\u001b[38;5;241;43m.\u001b[39;49m\u001b[43mnew_zeros\u001b[49m\u001b[43m(\u001b[49m\u001b[43msize\u001b[49m\u001b[43m)\u001b[49m\u001b[38;5;241;43m.\u001b[39;49m\u001b[43mscatter_add_\u001b[49m\u001b[43m(\u001b[49m\u001b[43mdim\u001b[49m\u001b[43m,\u001b[49m\u001b[43m \u001b[49m\u001b[43mindex\u001b[49m\u001b[43m,\u001b[49m\u001b[43m \u001b[49m\u001b[43msrc\u001b[49m\u001b[43m)\u001b[49m\n\u001b[1;32m     80\u001b[0m     \u001b[38;5;28;01mreturn\u001b[39;00m out \u001b[38;5;241m/\u001b[39m broadcast(count, out, dim)\n\u001b[1;32m     82\u001b[0m \u001b[38;5;66;03m# For \"min\" and \"max\" reduction, we prefer `scatter_reduce_` on CPU or\u001b[39;00m\n\u001b[1;32m     83\u001b[0m \u001b[38;5;66;03m# in case the input does not require gradients:\u001b[39;00m\n",
            "\u001b[0;31mKeyboardInterrupt\u001b[0m: "
          ]
        }
      ],
      "source": [
        "best_simple, avg_simple, all_simple = eval(dataset, False, params)\n",
        "print('-' * 64)\n",
        "print(f'Best: {best_simple}, Avg: {avg_simple}, Per fold: {all_simple}')"
      ]
    }
  ],
  "metadata": {
    "accelerator": "GPU",
    "colab": {
      "gpuType": "T4",
      "provenance": []
    },
    "kernelspec": {
      "display_name": "Python 3",
      "name": "python3"
    },
    "language_info": {
      "codemirror_mode": {
        "name": "ipython",
        "version": 3
      },
      "file_extension": ".py",
      "mimetype": "text/x-python",
      "name": "python",
      "nbconvert_exporter": "python",
      "pygments_lexer": "ipython3",
      "version": "3.10.13"
    }
  },
  "nbformat": 4,
  "nbformat_minor": 0
}
