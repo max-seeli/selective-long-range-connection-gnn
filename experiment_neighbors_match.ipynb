{
  "cells": [
    {
      "cell_type": "markdown",
      "metadata": {
        "id": "cpQFIXWIxIww"
      },
      "source": [
        "# Selective Long-Range Connections in Message Passing Neural Networks\n",
        "In this notebook, we will show that the message passing neural network (MPNN) can be improved upon for problems with a high problem-radius by using a last layer where some select nodes are connected over long distances to nodes otherwise unreachable."
      ]
    },
    {
      "cell_type": "markdown",
      "metadata": {
        "id": "OjcxLunexIwx"
      },
      "source": [
        "## Imports"
      ]
    },
    {
      "cell_type": "code",
      "execution_count": 21,
      "metadata": {
        "colab": {
          "base_uri": "https://localhost:8080/"
        },
        "id": "26WjoP9X6vzy",
        "outputId": "6d77acab-0e7e-48d5-dead-d9d73d4a78da"
      },
      "outputs": [],
      "source": [
        "#!pip install -q git+https://github.com/pyg-team/pytorch_geometric.git\n",
        "#!pip install torchmetrics\n",
        "#!wget https://raw.githubusercontent.com/max-seeli/selective-long-range-connection-gnn/main/slrc.py\n",
        "#!wget https://raw.githubusercontent.com/max-seeli/selective-long-range-connection-gnn/main/utils.py\n",
        "#!wget https://raw.githubusercontent.com/max-seeli/selective-long-range-connection-gnn/main/neighbors_match.py"
      ]
    },
    {
      "cell_type": "code",
      "execution_count": 22,
      "metadata": {},
      "outputs": [],
      "source": [
        "!rm -rf /tmp/neighbors_match"
      ]
    },
    {
      "cell_type": "code",
      "execution_count": 23,
      "metadata": {
        "colab": {
          "base_uri": "https://localhost:8080/",
          "height": 524
        },
        "id": "yiDapOslxIwy",
        "outputId": "e4efde74-6ddb-485a-b54d-c233cbddd010"
      },
      "outputs": [
        {
          "name": "stdout",
          "output_type": "stream",
          "text": [
            "Device: cpu\n"
          ]
        }
      ],
      "source": [
        "import pickle\n",
        "\n",
        "import torch\n",
        "from torch import nn\n",
        "from torch.nn import functional as F\n",
        "torch.manual_seed(0)\n",
        "device = torch.device('cuda' if torch.cuda.is_available() else 'cpu')\n",
        "print(\"Device:\", device)\n",
        "\n",
        "import torch_geometric\n",
        "from torch_geometric import nn as gnn\n",
        "from torch_geometric.nn import GCNConv\n",
        "from torch_geometric.loader import DataLoader\n",
        "from torch_geometric.data import InMemoryDataset\n",
        "\n",
        "from torchmetrics import Accuracy\n",
        "\n",
        "from sklearn.model_selection import KFold\n",
        "\n",
        "import slrc\n",
        "import neighbors_match\n",
        "import utils\n",
        "\n",
        "utils.seed_everything(42)"
      ]
    },
    {
      "cell_type": "markdown",
      "metadata": {
        "id": "uyZ5xwi4xIwy"
      },
      "source": [
        "## Data"
      ]
    },
    {
      "cell_type": "code",
      "execution_count": 24,
      "metadata": {
        "colab": {
          "base_uri": "https://localhost:8080/",
          "height": 411
        },
        "id": "kaJ7WQASxIwz",
        "outputId": "cd9fefcf-86f1-489c-d3c4-042f4f042c56"
      },
      "outputs": [
        {
          "name": "stderr",
          "output_type": "stream",
          "text": [
            "Generating Trees:   3%|▎         | 9999/322560 [00:08<04:23, 1184.76it/s]\n",
            "Processing...\n",
            "Done!\n"
          ]
        }
      ],
      "source": [
        "def data_preprocessing(data):\n",
        "    data.x = data.x.float()\n",
        "\n",
        "    # Note: it is important for the graph mini-batch, that 'index' is contained in the name.\n",
        "    data.k_hop_edge_index = slrc.create_k_hop_graph(data, k=3).edge_index\n",
        "\n",
        "    data.to(device)\n",
        "    return data\n",
        "\n",
        "class NeighborsMatch(InMemoryDataset):\n",
        "    def __init__(self, root, d, n, transform=None, pre_transform=None, pre_filter=None):\n",
        "        self.d = d\n",
        "        self.n = min(n, neighbors_match.num_graphs(d))\n",
        "\n",
        "        super().__init__(root, transform, pre_transform, pre_filter)\n",
        "        self.load(self.processed_paths[0])\n",
        "\n",
        "    @property\n",
        "    def raw_file_names(self):\n",
        "        return ['neighbors_match.pkl']\n",
        "    \n",
        "    @property\n",
        "    def processed_file_names(self):\n",
        "        return ['neighbors_match.pt']\n",
        "    \n",
        "    def download(self):\n",
        "        neighbors_match_graphs = neighbors_match.create_all_tree_neighbors_match_graph(self.d)\n",
        "        selected_graphs = []\n",
        "\n",
        "        for graph in neighbors_match_graphs:\n",
        "            selected_graphs.append(graph)\n",
        "            if len(selected_graphs) >= self.n:\n",
        "                break\n",
        "\n",
        "        with open(self.raw_paths[0], 'wb') as f:\n",
        "            pickle.dump(selected_graphs, f)\n",
        "\n",
        "\n",
        "    def process(self):\n",
        "        \n",
        "        with open(self.raw_paths[0], 'rb') as f:\n",
        "            nx_graphs = pickle.load(f)\n",
        "        \n",
        "        data_list = []\n",
        "        for G in nx_graphs:\n",
        "            data = torch_geometric.utils.from_networkx(G, group_node_attrs=['x'])\n",
        "            data_list.append(data)\n",
        "        \n",
        "        if self.pre_filter is not None:\n",
        "            data_list = [data for data in data_list if self.pre_filter(data)]\n",
        "\n",
        "        if self.pre_transform is not None:\n",
        "            data_list = [self.pre_transform(data) for data in data_list]\n",
        "\n",
        "        self.save(data_list, self.processed_paths[0])\n",
        "\n",
        "dataset = NeighborsMatch(root='/tmp/neighbors_match', d=3, n=10000, pre_transform=data_preprocessing)    "
      ]
    },
    {
      "cell_type": "code",
      "execution_count": 25,
      "metadata": {},
      "outputs": [
        {
          "name": "stdout",
          "output_type": "stream",
          "text": [
            "Example features:\n",
            "tensor([[1., 0., 0., 5.],\n",
            "        [0., 0., 1., 0.],\n",
            "        [0., 0., 1., 0.],\n",
            "        [0., 0., 1., 0.],\n",
            "        [0., 0., 1., 0.],\n",
            "        [0., 0., 1., 0.],\n",
            "        [0., 0., 1., 0.],\n",
            "        [1., 0., 0., 1.],\n",
            "        [1., 0., 0., 6.],\n",
            "        [1., 0., 0., 5.],\n",
            "        [1., 0., 0., 0.],\n",
            "        [1., 0., 0., 3.],\n",
            "        [1., 0., 0., 4.],\n",
            "        [1., 0., 0., 7.],\n",
            "        [1., 0., 0., 2.]])\n",
            "Example label:\n",
            "tensor([[0., 0., 1., 0., 0., 0., 0., 0.]])\n"
          ]
        }
      ],
      "source": [
        "# Inspect example features and labels\n",
        "print(\"Example features:\")\n",
        "print(dataset[0].x)\n",
        "\n",
        "print(\"Example label:\")\n",
        "print(dataset[0].y)"
      ]
    },
    {
      "cell_type": "markdown",
      "metadata": {
        "id": "x0ZHaiOCxIw0"
      },
      "source": [
        "## Model"
      ]
    },
    {
      "cell_type": "code",
      "execution_count": 26,
      "metadata": {
        "id": "zF4v6OckxIw0"
      },
      "outputs": [],
      "source": [
        "class SimpleGNN(nn.Module):\n",
        "\n",
        "    def __init__(self, num_node_features, hidden_channels, transfer_size, dense_layers, num_classes, dropout):\n",
        "        super(SimpleGNN, self).__init__()\n",
        "\n",
        "        self.convs = nn.ModuleList()\n",
        "        self.convs.append(GCNConv(num_node_features, hidden_channels[0]))\n",
        "        for i in range(1, len(hidden_channels)):\n",
        "            self.convs.append(GCNConv(hidden_channels[i-1], hidden_channels[i]))\n",
        "        self.convs.append(GCNConv(hidden_channels[-1], transfer_size))\n",
        "\n",
        "        self.dense = nn.ModuleList()\n",
        "        self.dense.append(nn.Linear(transfer_size, dense_layers[0]))\n",
        "        for i in range(1, len(dense_layers)):\n",
        "            self.dense.append(nn.Linear(dense_layers[i-1], dense_layers[i]))\n",
        "        self.dense.append(nn.Linear(dense_layers[-1], num_classes))\n",
        "\n",
        "        self.dropout = dropout\n",
        "\n",
        "    def forward(self, data):\n",
        "        x, edge_index, batch = data.x, data.edge_index, data.batch\n",
        "\n",
        "        for conv in self.convs[:-1]:\n",
        "            x = conv(x, edge_index)\n",
        "            x = F.relu(x)\n",
        "            x = F.dropout(x, p=self.dropout, training=self.training)\n",
        "\n",
        "        x = self.convs[-1](x, self.get_last_layer_edge_index(data))\n",
        "        x = F.relu(x)\n",
        "        x = gnn.global_mean_pool(x, batch)\n",
        "\n",
        "        for dense in self.dense[:-1]:\n",
        "            x = dense(x)\n",
        "            x = F.relu(x)\n",
        "            x = F.dropout(x, p=self.dropout, training=self.training)\n",
        "\n",
        "        x = self.dense[-1](x)\n",
        "\n",
        "        return x.squeeze(-1)\n",
        "\n",
        "    def get_last_layer_edge_index(self, data):\n",
        "        return data.edge_index"
      ]
    },
    {
      "cell_type": "code",
      "execution_count": 27,
      "metadata": {
        "id": "dBdtIXuoAhea"
      },
      "outputs": [],
      "source": [
        "class SlrcGNN(SimpleGNN):\n",
        "\n",
        "    def get_last_layer_edge_index(self, data):\n",
        "        return data.k_hop_edge_index"
      ]
    },
    {
      "cell_type": "code",
      "execution_count": 28,
      "metadata": {
        "id": "0bZJZl2dxIw1"
      },
      "outputs": [],
      "source": [
        "def train(model, train_loader, optimizer, criterion, epoch):\n",
        "    model.train()\n",
        "\n",
        "    for batch in train_loader:\n",
        "        optimizer.zero_grad()\n",
        "        out = model(batch)\n",
        "        loss = criterion(out, batch.y.float())\n",
        "        loss.backward()\n",
        "        optimizer.step()\n",
        "\n",
        "def test(model, test_loader):\n",
        "    model.eval()\n",
        "\n",
        "    acc = Accuracy(task='multiclass', num_classes=8).to(device)\n",
        "    for batch in test_loader:\n",
        "        out = model(batch)\n",
        "        \n",
        "        true = torch.argmax(batch.y, dim=1)\n",
        "        pred = torch.argmax(out, dim=1)\n",
        "        acc(pred, true)\n",
        "    return acc.compute()\n",
        "\n",
        "\n",
        "def eval(dataset, isSelective, params, k=5):\n",
        "\n",
        "    kfold = KFold(n_splits=k, shuffle=True, random_state=42)\n",
        "\n",
        "    fold_acc = []\n",
        "    for fold, (train_idx, val_idx) in enumerate(kfold.split(dataset)):\n",
        "        print(f'@ Fold {fold}')\n",
        "        train_subset = torch.utils.data.Subset(dataset, train_idx)\n",
        "        val_subset = torch.utils.data.Subset(dataset, val_idx)\n",
        "\n",
        "        train_loader = DataLoader(train_subset, batch_size=params['batch_size'], shuffle=True)\n",
        "        val_loader = DataLoader(val_subset, batch_size=params['batch_size'], shuffle=False)\n",
        "\n",
        "        fold_model = SlrcGNN(**params['model']) if isSelective else SimpleGNN(**params['model'])\n",
        "        fold_model.to(device)\n",
        "\n",
        "        optimizer = torch.optim.Adam(fold_model.parameters(), lr=params['lr'], weight_decay=params['weight_decay'])\n",
        "        criterion = nn.MSELoss()\n",
        "\n",
        "\n",
        "        best_acc = float('-inf')\n",
        "        for epoch in range(1, params['epochs'] + 1):\n",
        "            train(fold_model, train_loader, optimizer, criterion, epoch)\n",
        "\n",
        "            with torch.no_grad():\n",
        "                test_acc = test(fold_model, val_loader)\n",
        "                best_acc = max(best_acc, test_acc)\n",
        "                print(f'Epoch: {epoch:03d}, Test ACC: {test_acc:.4f}')\n",
        "\n",
        "            torch.cuda.empty_cache()\n",
        "\n",
        "        fold_acc.append(best_acc)\n",
        "        print()\n",
        "\n",
        "    return min(fold_acc), sum(fold_acc) / len(fold_acc), fold_acc"
      ]
    },
    {
      "cell_type": "code",
      "execution_count": 29,
      "metadata": {
        "id": "htNF9CEP5i1J"
      },
      "outputs": [],
      "source": [
        "params = {\n",
        "    'model': {\n",
        "        'num_node_features': dataset.num_node_features,\n",
        "        'hidden_channels': [8] * 4,\n",
        "        'transfer_size': 8,\n",
        "        'dense_layers': [8],\n",
        "        'num_classes': dataset.num_classes,\n",
        "        'dropout': 0.3\n",
        "    },\n",
        "    'lr': 0.001,\n",
        "    'weight_decay': 5e-4,\n",
        "    'epochs': 200,\n",
        "    'batch_size': 32\n",
        "}"
      ]
    },
    {
      "cell_type": "code",
      "execution_count": 30,
      "metadata": {
        "id": "QUfIS0Qa6AIn"
      },
      "outputs": [
        {
          "name": "stdout",
          "output_type": "stream",
          "text": [
            "@ Fold 0\n"
          ]
        },
        {
          "name": "stdout",
          "output_type": "stream",
          "text": [
            "Epoch: 001, Test ACC: 0.1305\n",
            "Epoch: 002, Test ACC: 0.1220\n",
            "Epoch: 003, Test ACC: 0.1380\n",
            "Epoch: 004, Test ACC: 0.1210\n",
            "Epoch: 005, Test ACC: 0.1220\n",
            "Epoch: 006, Test ACC: 0.1220\n",
            "Epoch: 007, Test ACC: 0.1210\n",
            "Epoch: 008, Test ACC: 0.1295\n",
            "Epoch: 009, Test ACC: 0.1380\n",
            "Epoch: 010, Test ACC: 0.1295\n",
            "Epoch: 011, Test ACC: 0.1220\n",
            "Epoch: 012, Test ACC: 0.1220\n",
            "Epoch: 013, Test ACC: 0.1380\n",
            "Epoch: 014, Test ACC: 0.1380\n",
            "Epoch: 015, Test ACC: 0.1220\n",
            "Epoch: 016, Test ACC: 0.1210\n",
            "Epoch: 017, Test ACC: 0.1220\n",
            "Epoch: 018, Test ACC: 0.1380\n",
            "Epoch: 019, Test ACC: 0.1220\n",
            "Epoch: 020, Test ACC: 0.1220\n",
            "Epoch: 021, Test ACC: 0.1220\n",
            "Epoch: 022, Test ACC: 0.1380\n",
            "Epoch: 023, Test ACC: 0.1220\n",
            "Epoch: 024, Test ACC: 0.1295\n",
            "Epoch: 025, Test ACC: 0.1210\n",
            "Epoch: 026, Test ACC: 0.1380\n",
            "Epoch: 027, Test ACC: 0.1210\n",
            "Epoch: 028, Test ACC: 0.1210\n",
            "Epoch: 029, Test ACC: 0.1210\n",
            "Epoch: 030, Test ACC: 0.1295\n",
            "Epoch: 031, Test ACC: 0.1295\n",
            "Epoch: 032, Test ACC: 0.1220\n",
            "Epoch: 033, Test ACC: 0.1305\n",
            "Epoch: 034, Test ACC: 0.1220\n",
            "Epoch: 035, Test ACC: 0.1210\n",
            "Epoch: 036, Test ACC: 0.1220\n",
            "Epoch: 037, Test ACC: 0.1380\n",
            "Epoch: 038, Test ACC: 0.1305\n",
            "Epoch: 039, Test ACC: 0.1305\n",
            "Epoch: 040, Test ACC: 0.1295\n",
            "Epoch: 041, Test ACC: 0.1220\n",
            "Epoch: 042, Test ACC: 0.1220\n",
            "Epoch: 043, Test ACC: 0.1210\n",
            "Epoch: 044, Test ACC: 0.1220\n",
            "Epoch: 045, Test ACC: 0.1220\n",
            "Epoch: 046, Test ACC: 0.1380\n",
            "Epoch: 047, Test ACC: 0.1220\n",
            "Epoch: 048, Test ACC: 0.1295\n",
            "Epoch: 049, Test ACC: 0.1305\n",
            "Epoch: 050, Test ACC: 0.1220\n",
            "Epoch: 051, Test ACC: 0.1220\n",
            "Epoch: 052, Test ACC: 0.1380\n",
            "Epoch: 053, Test ACC: 0.1380\n",
            "Epoch: 054, Test ACC: 0.1220\n",
            "Epoch: 055, Test ACC: 0.1220\n",
            "Epoch: 056, Test ACC: 0.1295\n",
            "Epoch: 057, Test ACC: 0.1220\n",
            "Epoch: 058, Test ACC: 0.1220\n",
            "Epoch: 059, Test ACC: 0.1295\n",
            "Epoch: 060, Test ACC: 0.1210\n",
            "Epoch: 061, Test ACC: 0.1295\n",
            "Epoch: 062, Test ACC: 0.1220\n",
            "Epoch: 063, Test ACC: 0.1305\n",
            "Epoch: 064, Test ACC: 0.1220\n",
            "Epoch: 065, Test ACC: 0.1220\n",
            "Epoch: 066, Test ACC: 0.1220\n",
            "Epoch: 067, Test ACC: 0.1295\n",
            "Epoch: 068, Test ACC: 0.1220\n",
            "Epoch: 069, Test ACC: 0.1295\n",
            "Epoch: 070, Test ACC: 0.1220\n",
            "Epoch: 071, Test ACC: 0.1295\n",
            "Epoch: 072, Test ACC: 0.1220\n",
            "Epoch: 073, Test ACC: 0.1210\n",
            "Epoch: 074, Test ACC: 0.1220\n",
            "Epoch: 075, Test ACC: 0.1160\n",
            "Epoch: 076, Test ACC: 0.1380\n",
            "Epoch: 077, Test ACC: 0.1220\n",
            "Epoch: 078, Test ACC: 0.1220\n",
            "Epoch: 079, Test ACC: 0.1295\n",
            "Epoch: 080, Test ACC: 0.1380\n",
            "Epoch: 081, Test ACC: 0.1295\n",
            "Epoch: 082, Test ACC: 0.1160\n",
            "Epoch: 083, Test ACC: 0.1220\n",
            "Epoch: 084, Test ACC: 0.1305\n",
            "Epoch: 085, Test ACC: 0.1295\n",
            "Epoch: 086, Test ACC: 0.1380\n",
            "Epoch: 087, Test ACC: 0.1220\n",
            "Epoch: 088, Test ACC: 0.1220\n",
            "Epoch: 089, Test ACC: 0.1220\n",
            "Epoch: 090, Test ACC: 0.1220\n",
            "Epoch: 091, Test ACC: 0.1220\n",
            "Epoch: 092, Test ACC: 0.1220\n",
            "Epoch: 093, Test ACC: 0.1220\n",
            "Epoch: 094, Test ACC: 0.1210\n",
            "Epoch: 095, Test ACC: 0.1220\n",
            "Epoch: 096, Test ACC: 0.1220\n",
            "Epoch: 097, Test ACC: 0.1220\n",
            "Epoch: 098, Test ACC: 0.1295\n",
            "Epoch: 099, Test ACC: 0.1220\n",
            "Epoch: 100, Test ACC: 0.1220\n",
            "Epoch: 101, Test ACC: 0.1210\n",
            "Epoch: 102, Test ACC: 0.1210\n",
            "Epoch: 103, Test ACC: 0.1220\n",
            "Epoch: 104, Test ACC: 0.1220\n",
            "Epoch: 105, Test ACC: 0.1210\n",
            "Epoch: 106, Test ACC: 0.1220\n",
            "Epoch: 107, Test ACC: 0.1295\n",
            "Epoch: 108, Test ACC: 0.1220\n",
            "Epoch: 109, Test ACC: 0.1210\n",
            "Epoch: 110, Test ACC: 0.1220\n",
            "Epoch: 111, Test ACC: 0.1220\n",
            "Epoch: 112, Test ACC: 0.1220\n",
            "Epoch: 113, Test ACC: 0.1220\n",
            "Epoch: 114, Test ACC: 0.1305\n",
            "Epoch: 115, Test ACC: 0.1220\n",
            "Epoch: 116, Test ACC: 0.1295\n",
            "Epoch: 117, Test ACC: 0.1220\n",
            "Epoch: 118, Test ACC: 0.1295\n",
            "Epoch: 119, Test ACC: 0.1380\n",
            "Epoch: 120, Test ACC: 0.1380\n",
            "Epoch: 121, Test ACC: 0.1220\n",
            "Epoch: 122, Test ACC: 0.1210\n",
            "Epoch: 123, Test ACC: 0.1210\n",
            "Epoch: 124, Test ACC: 0.1295\n",
            "Epoch: 125, Test ACC: 0.1295\n",
            "Epoch: 126, Test ACC: 0.1220\n",
            "Epoch: 127, Test ACC: 0.1220\n",
            "Epoch: 128, Test ACC: 0.1220\n",
            "Epoch: 129, Test ACC: 0.1295\n",
            "Epoch: 130, Test ACC: 0.1220\n",
            "Epoch: 131, Test ACC: 0.1295\n",
            "Epoch: 132, Test ACC: 0.1220\n",
            "Epoch: 133, Test ACC: 0.1220\n",
            "Epoch: 134, Test ACC: 0.1295\n",
            "Epoch: 135, Test ACC: 0.1210\n",
            "Epoch: 136, Test ACC: 0.1220\n",
            "Epoch: 137, Test ACC: 0.1305\n",
            "Epoch: 138, Test ACC: 0.1305\n",
            "Epoch: 139, Test ACC: 0.1220\n",
            "Epoch: 140, Test ACC: 0.1220\n",
            "Epoch: 141, Test ACC: 0.1210\n",
            "Epoch: 142, Test ACC: 0.1220\n",
            "Epoch: 143, Test ACC: 0.1220\n"
          ]
        }
      ],
      "source": [
        "best_slrc, avg_slrc, all_slrc = eval(dataset, True, params)\n",
        "print('-' * 64)\n",
        "print(f'Best: {best_slrc}, Avg: {avg_slrc}, Per fold: {all_slrc}')"
      ]
    },
    {
      "cell_type": "code",
      "execution_count": null,
      "metadata": {
        "id": "hg3TpJ7j6gXb"
      },
      "outputs": [
        {
          "name": "stdout",
          "output_type": "stream",
          "text": [
            "@ Fold 0\n",
            "Epoch: 001, Test ACC: 0.1287\n",
            "Epoch: 002, Test ACC: 0.1318\n",
            "Epoch: 003, Test ACC: 0.1280\n",
            "Epoch: 004, Test ACC: 0.1225\n",
            "Epoch: 005, Test ACC: 0.1205\n",
            "Epoch: 006, Test ACC: 0.1318\n",
            "Epoch: 007, Test ACC: 0.1198\n",
            "Epoch: 008, Test ACC: 0.1255\n",
            "Epoch: 009, Test ACC: 0.1233\n"
          ]
        }
      ],
      "source": [
        "best_simple, avg_simple, all_simple = eval(dataset, False, params)\n",
        "print('-' * 64)\n",
        "print(f'Best: {best_simple}, Avg: {avg_simple}, Per fold: {all_simple}')"
      ]
    }
  ],
  "metadata": {
    "accelerator": "GPU",
    "colab": {
      "gpuType": "T4",
      "provenance": []
    },
    "kernelspec": {
      "display_name": "Python 3",
      "name": "python3"
    },
    "language_info": {
      "codemirror_mode": {
        "name": "ipython",
        "version": 3
      },
      "file_extension": ".py",
      "mimetype": "text/x-python",
      "name": "python",
      "nbconvert_exporter": "python",
      "pygments_lexer": "ipython3",
      "version": "3.10.13"
    }
  },
  "nbformat": 4,
  "nbformat_minor": 0
}
