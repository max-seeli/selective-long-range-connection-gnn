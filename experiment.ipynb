{
  "cells": [
    {
      "cell_type": "markdown",
      "metadata": {
        "id": "cpQFIXWIxIww"
      },
      "source": [
        "# Selective Long-Range Connections in Message Passing Neural Networks\n",
        "In this notebook, we will show that the message passing neural network (MPNN) can be improved upon for problems with a high problem-radius by using a last layer where some select nodes are connected over long distances to nodes otherwise unreachable."
      ]
    },
    {
      "cell_type": "markdown",
      "metadata": {
        "id": "OjcxLunexIwx"
      },
      "source": [
        "## Imports"
      ]
    },
    {
      "cell_type": "code",
      "execution_count": null,
      "metadata": {
        "id": "yiDapOslxIwy"
      },
      "outputs": [],
      "source": [
        "from itertools import combinations\n",
        "from tqdm import tqdm\n",
        "\n",
        "import torch\n",
        "from torch import nn\n",
        "from torch.nn import functional as F\n",
        "torch.manual_seed(0)\n",
        "device = torch.device('cuda' if torch.cuda.is_available() else 'cpu')\n",
        "print(\"Device:\", device)\n",
        "\n",
        "from torch_geometric import nn as gnn\n",
        "from torch_geometric.nn import GCNConv\n",
        "from torch_geometric.loader import DataLoader\n",
        "\n",
        "from torchmetrics import MeanSquaredError, MeanAbsoluteError"
      ]
    },
    {
      "cell_type": "markdown",
      "metadata": {
        "id": "uyZ5xwi4xIwy"
      },
      "source": [
        "## Data"
      ]
    },
    {
      "cell_type": "code",
      "execution_count": null,
      "metadata": {
        "id": "kaJ7WQASxIwz"
      },
      "outputs": [],
      "source": [
        "from torch_geometric.datasets import TUDataset, LRGBDataset, ZINC\n",
        "\n",
        "def node_feats_to_float(data):\n",
        "    data.x = data.x.float()\n",
        "    data.to(device)\n",
        "    return data\n",
        "\n",
        "train_dataset = ZINC(root='/tmp/ZINC', subset=True, split='train', transform=node_feats_to_float,)\n",
        "val_dataset = ZINC(root='/tmp/ZINC', subset=True, split='val', transform=node_feats_to_float)\n",
        "test_dataset = ZINC(root='/tmp/ZINC', subset=True, split='test', transform=node_feats_to_float)"
      ]
    },
    {
      "cell_type": "code",
      "execution_count": 16,
      "metadata": {
        "id": "GGpiS0gJxIwz"
      },
      "outputs": [
        {
          "name": "stdout",
          "output_type": "stream",
          "text": [
            "#features: 1\n",
            "#classes: 9994\n"
          ]
        },
        {
          "name": "stderr",
          "output_type": "stream",
          "text": [
            "100%|██████████| 10000/10000 [00:00<00:00, 10462.56it/s]\n"
          ]
        },
        {
          "name": "stdout",
          "output_type": "stream",
          "text": [
            "Train: ZINC (#graphs=10000):\n",
            "+------------+----------+----------+\n",
            "|            |   #nodes |   #edges |\n",
            "|------------+----------+----------|\n",
            "| mean       |     23.2 |     49.9 |\n",
            "| std        |      4.5 |     10.6 |\n",
            "| min        |      9   |     16   |\n",
            "| quantile25 |     20   |     42   |\n",
            "| median     |     23   |     50   |\n",
            "| quantile75 |     26   |     56   |\n",
            "| max        |     37   |     82   |\n",
            "+------------+----------+----------+\n",
            "Val: ZINC (#graphs=1000):\n",
            "+------------+----------+----------+\n",
            "|            |   #nodes |   #edges |\n",
            "|------------+----------+----------|\n",
            "| mean       |     23.1 |     49.7 |\n",
            "| std        |      4.5 |     10.4 |\n",
            "| min        |     10   |     20   |\n",
            "| quantile25 |     20   |     42   |\n",
            "| median     |     23   |     50   |\n",
            "| quantile75 |     26   |     56   |\n",
            "| max        |     36   |     80   |\n",
            "+------------+----------+----------+\n",
            "Test: ZINC (#graphs=1000):\n",
            "+------------+----------+----------+\n",
            "|            |   #nodes |   #edges |\n",
            "|------------+----------+----------|\n",
            "| mean       |     23.1 |     49.7 |\n",
            "| std        |      4.4 |     10.4 |\n",
            "| min        |     11   |     20   |\n",
            "| quantile25 |     20   |     42   |\n",
            "| median     |     23   |     50   |\n",
            "| quantile75 |     26   |     56   |\n",
            "| max        |     37   |     84   |\n",
            "+------------+----------+----------+\n",
            "Example graph: Data(x=[29, 1], edge_index=[2, 64], edge_attr=[64], y=[1])\n",
            "x: tensor([[0., 1., 0., 0., 0., 0., 0., 0., 0., 1., 0., 0., 2., 0., 0., 2., 5., 1.,\n",
            "         1., 0., 0., 2., 0., 0., 0., 0., 0., 0., 0.]])\n",
            "edge_index: tensor([[ 0,  1,  1,  2,  2,  2,  3,  3,  4,  4,  5,  5,  5,  6,  6,  7,  7,  8,\n",
            "          8,  8,  9, 10, 10, 10, 11, 11, 12, 12, 12, 13, 13, 14, 14, 15, 15, 15,\n",
            "         16, 16, 16, 16, 17, 18, 19, 19, 19, 20, 20, 21, 21, 21, 22, 23, 23, 24,\n",
            "         24, 25, 25, 26, 26, 27, 27, 27, 28, 28],\n",
            "        [ 1,  0,  2,  1,  3, 28,  2,  4,  3,  5,  4,  6, 27,  5,  7,  6,  8,  7,\n",
            "          9, 10,  8,  8, 11, 27, 10, 12, 11, 13, 26, 12, 14, 13, 15, 14, 16, 25,\n",
            "         15, 17, 18, 19, 16, 16, 16, 20, 24, 19, 21, 20, 22, 23, 21, 21, 24, 19,\n",
            "         23, 15, 26, 12, 25,  5, 10, 28,  2, 27]])\n",
            "edge_attr: tensor([1, 1, 1, 1, 2, 1, 2, 1, 1, 2, 2, 1, 1, 1, 2, 2, 1, 1, 1, 2, 1, 2, 1, 1,\n",
            "        1, 1, 1, 1, 1, 1, 1, 1, 1, 1, 1, 1, 1, 2, 2, 1, 2, 2, 1, 2, 1, 2, 1, 1,\n",
            "        1, 1, 1, 1, 2, 1, 2, 1, 1, 1, 1, 1, 1, 2, 1, 2])\n",
            "y: tensor([0.8350])\n"
          ]
        }
      ],
      "source": [
        "print(f'#features: {train_dataset.num_features}')\n",
        "print(f'#classes: {train_dataset.num_classes}')\n",
        "\n",
        "print(f'Train: {train_dataset.get_summary()}')\n",
        "print(f'Val: {val_dataset.get_summary()}')\n",
        "print(f'Test: {test_dataset.get_summary()}')\n",
        "\n",
        "print(f'Example graph: {train_dataset[0]}')\n",
        "print(f'x: {train_dataset[0].x.T}')\n",
        "print(f'edge_index: {train_dataset[0].edge_index}')\n",
        "print(f'edge_attr: {train_dataset[0].edge_attr}')\n",
        "print(f'y: {train_dataset[0].y}')\n"
      ]
    },
    {
      "cell_type": "markdown",
      "metadata": {
        "id": "x0ZHaiOCxIw0"
      },
      "source": [
        "## Model"
      ]
    },
    {
      "cell_type": "code",
      "execution_count": null,
      "metadata": {
        "id": "zF4v6OckxIw0"
      },
      "outputs": [],
      "source": [
        "class SimpleGNN(nn.Module):\n",
        "    \n",
        "    def __init__(self, num_node_features, hidden_channels, transfer_size, dense_layers, num_classes, dropout):\n",
        "        super(SimpleGNN, self).__init__()\n",
        "\n",
        "        self.convs = nn.ModuleList()\n",
        "        self.convs.append(GCNConv(num_node_features, hidden_channels[0]))\n",
        "        for i in range(1, len(hidden_channels)):\n",
        "            self.convs.append(GCNConv(hidden_channels[i-1], hidden_channels[i]))\n",
        "        self.convs.append(GCNConv(hidden_channels[-1], transfer_size))\n",
        "\n",
        "        self.dense = nn.ModuleList()\n",
        "        self.dense.append(nn.Linear(transfer_size, dense_layers[0]))\n",
        "        for i in range(1, len(dense_layers)):\n",
        "            self.dense.append(nn.Linear(dense_layers[i-1], dense_layers[i]))\n",
        "        self.dense.append(nn.Linear(dense_layers[-1], num_classes))\n",
        "\n",
        "        self.dropout = dropout\n",
        "\n",
        "\n",
        "    def forward(self, data):\n",
        "        x, edge_index, batch = data.x, data.edge_index, data.batch\n",
        "\n",
        "        for conv in self.convs[:-1]:\n",
        "            x = conv(x, edge_index)\n",
        "            x = F.relu(x)\n",
        "            x = F.dropout(x, p=self.dropout, training=self.training)\n",
        "\n",
        "        x = self.convs[-1](x, edge_index)\n",
        "        x = F.relu(x)\n",
        "        x = gnn.global_mean_pool(x, batch)\n",
        "\n",
        "\n",
        "\n",
        "    def forward(self, data):\n",
        "        x, edge_index, batch = data.x, data.edge_index, data.batch\n",
        "\n",
        "        for conv in self.convs[:-1]:\n",
        "            x = conv(x, edge_index)\n",
        "            x = F.relu(x)\n",
        "            x = F.dropout(x, p=self.dropout, training=self.training)\n",
        "\n",
        "        x = self.convs[-1](x, edge_index)\n",
        "        x = F.relu(x)\n",
        "        x = gnn.global_mean_pool(x, batch)\n",
        "\n",
        "        for dense in self.dense[:-1]:\n",
        "            x = dense(x)\n",
        "            x = F.relu(x)\n",
        "            x = F.dropout(x, p=self.dropout, training=self.training)\n",
        "\n",
        "        x = self.dense[-1](x)\n",
        "        \n",
        "        return x.squeeze(-1)"
      ]
    },
    {
      "cell_type": "code",
      "execution_count": null,
      "metadata": {
        "id": "0bZJZl2dxIw1"
      },
      "outputs": [],
      "source": [
        "model = SimpleGNN(train_dataset.num_node_features, [64] * 2, 64, [64], 1, 0.0).to(device)\n",
        "\n",
        "train_loader = DataLoader(train_dataset, batch_size=32, shuffle=True)\n",
        "test_loader = DataLoader(test_dataset, batch_size=32, shuffle=False)\n",
        "\n",
        "optimizer = torch.optim.Adam(model.parameters(), lr=0.01, weight_decay=5e-4)\n",
        "criterion = nn.MSELoss()\n",
        "\n",
        "def train(epoch):\n",
        "    model.train()\n",
        "\n",
        "    for batch in train_loader:\n",
        "        optimizer.zero_grad()\n",
        "        out = model(batch)\n",
        "        loss = criterion(out, batch.y.float())\n",
        "        loss.backward()\n",
        "        optimizer.step()\n",
        "\n",
        "def test():\n",
        "    model.eval()\n",
        "\n",
        "    mse = MeanSquaredError().to(device)\n",
        "    mae = MeanAbsoluteError().to(device)\n",
        "    for batch in test_loader:\n",
        "        out = model(batch)\n",
        "        mse(out, batch.y)\n",
        "        mae(out, batch.y)\n",
        "    return mse.compute(), mae.compute()\n",
        "    \n",
        "for epoch in range(1, 201):\n",
        "    train(epoch)\n",
        "\n",
        "    with torch.no_grad():\n",
        "        test_mse, test_mae = test()\n",
        "        print(f'Epoch: {epoch:03d}, Test MSE: {test_mse:.4f}, Test MAE: {test_mae:.4f}')\n",
        "    torch.cuda.empty_cache()\n",
        "\n",
        "torch.save(model.state_dict(), 'model.pt')"
      ]
    }
  ],
  "metadata": {
    "colab": {
      "provenance": []
    },
    "kernelspec": {
      "display_name": "selective-long-range-connection-gnn",
      "language": "python",
      "name": "python3"
    },
    "language_info": {
      "codemirror_mode": {
        "name": "ipython",
        "version": 3
      },
      "file_extension": ".py",
      "mimetype": "text/x-python",
      "name": "python",
      "nbconvert_exporter": "python",
      "pygments_lexer": "ipython3",
      "version": "3.10.13"
    }
  },
  "nbformat": 4,
  "nbformat_minor": 0
}
