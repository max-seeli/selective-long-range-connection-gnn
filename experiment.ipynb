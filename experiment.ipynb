{
 "cells": [
  {
   "cell_type": "markdown",
   "metadata": {},
   "source": [
    "# Selective Long-Range Connections in Message Passing Neural Networks\n",
    "In this notebook, we will show that the message passing neural network (MPNN) can be improved upon for problems with a high problem-radius by using a last layer where some select nodes are connected over long distances to nodes otherwise unreachable."
   ]
  },
  {
   "cell_type": "markdown",
   "metadata": {},
   "source": [
    "## Imports"
   ]
  },
  {
   "cell_type": "code",
   "execution_count": null,
   "metadata": {},
   "outputs": [],
   "source": [
    "from itertools import combinations\n",
    "from tqdm import tqdm\n",
    "\n",
    "import torch\n",
    "from torch import nn\n",
    "from torch.nn import functional as F\n",
    "torch.manual_seed(0)\n",
    "device = torch.device('cuda' if torch.cuda.is_available() else 'cpu')\n",
    "print(\"Device:\", device)\n",
    "\n",
    "from torch_geometric import nn as gnn\n",
    "from torch_geometric.nn import GCNConv\n",
    "from torch_geometric.loader import DataLoader\n",
    "\n",
    "from torchmetrics import MeanSquaredError"
   ]
  },
  {
   "cell_type": "markdown",
   "metadata": {},
   "source": [
    "## Data"
   ]
  },
  {
   "cell_type": "code",
   "execution_count": null,
   "metadata": {},
   "outputs": [],
   "source": [
    "from torch_geometric.datasets import TUDataset, LRGBDataset, ZINC\n",
    "\n",
    "def node_feats_to_float(data):\n",
    "    data.x = data.x.float()\n",
    "    data.to(device)\n",
    "    return data\n",
    "\n",
    "train_dataset = ZINC(root='/tmp/ZINC', subset=True, split='train', transform=node_feats_to_float,)\n",
    "val_dataset = ZINC(root='/tmp/ZINC', subset=True, split='val', transform=node_feats_to_float)\n",
    "test_dataset = ZINC(root='/tmp/ZINC', subset=True, split='test', transform=node_feats_to_float)"
   ]
  },
  {
   "cell_type": "code",
   "execution_count": null,
   "metadata": {},
   "outputs": [],
   "source": [
    "print(f'Train: {train_dataset.get_summary()}')\n",
    "print(f'Val: {val_dataset.get_summary()}')\n",
    "print(f'Test: {test_dataset.get_summary()}')"
   ]
  },
  {
   "cell_type": "markdown",
   "metadata": {},
   "source": [
    "## Model"
   ]
  },
  {
   "cell_type": "code",
   "execution_count": null,
   "metadata": {},
   "outputs": [],
   "source": [
    "class SimpleGNN(nn.Module):\n",
    "    \n",
    "    def __init__(self, num_node_features, hidden_channels, dense_input, num_classes, dropout):\n",
    "        super(SimpleGNN, self).__init__()\n",
    "\n",
    "        self.convs = nn.ModuleList()\n",
    "        self.convs.append(GCNConv(num_node_features, hidden_channels[0]))\n",
    "        for i in range(1, len(hidden_channels)):\n",
    "            self.convs.append(GCNConv(hidden_channels[i-1], hidden_channels[i]))\n",
    "        self.convs.append(GCNConv(hidden_channels[-1], dense_input))\n",
    "\n",
    "        self.dense = nn.Linear(dense_input, num_classes)\n",
    "\n",
    "        self.dropout = dropout\n",
    "\n",
    "\n",
    "    def forward(self, data):\n",
    "        x, edge_index, batch = data.x, data.edge_index, data.batch\n",
    "\n",
    "        for conv in self.convs[:-1]:\n",
    "            x = conv(x, edge_index)\n",
    "            x = F.relu(x)\n",
    "            x = F.dropout(x, p=self.dropout, training=self.training)\n",
    "\n",
    "        x = self.convs[-1](x, edge_index)\n",
    "        x = F.relu(x)\n",
    "        x = gnn.global_mean_pool(x, batch)\n",
    "\n",
    "        x = F.dropout(x, p=self.dropout, training=self.training)\n",
    "        x = self.dense(x)\n",
    "        return x.squeeze(-1)"
   ]
  },
  {
   "cell_type": "code",
   "execution_count": null,
   "metadata": {},
   "outputs": [],
   "source": [
    "model = SimpleGNN(train_dataset.num_node_features, [10] * 2, 12, 1, 0.2).to(device)\n",
    "\n",
    "train_loader = DataLoader(train_dataset, batch_size=32, shuffle=True)\n",
    "test_loader = DataLoader(test_dataset, batch_size=32, shuffle=False)\n",
    "\n",
    "optimizer = torch.optim.Adam(model.parameters(), lr=0.01, weight_decay=5e-4)\n",
    "criterion = nn.MSELoss()\n",
    "\n",
    "def train(epoch):\n",
    "    model.train()\n",
    "\n",
    "    for batch in train_loader:\n",
    "        optimizer.zero_grad()\n",
    "        out = model(batch)\n",
    "        loss = criterion(out, batch.y.float())\n",
    "        loss.backward()\n",
    "        optimizer.step()\n",
    "\n",
    "def test():\n",
    "    model.eval()\n",
    "\n",
    "    mse = MeanSquaredError()\n",
    "    for batch in test_loader:\n",
    "        out = model(batch)\n",
    "        mse(out, batch.y)\n",
    "    return mse.compute()\n",
    "    \n",
    "    \n",
    "\n",
    "for epoch in range(1, 201):\n",
    "    train(epoch)\n",
    "\n",
    "    with torch.no_grad():\n",
    "        test_mse = test()\n",
    "        print(f'Epoch: {epoch:03d}, Test MSE: {test_mse:.4f}')\n",
    "    torch.cuda.empty_cache()\n",
    "    \n",
    "torch.save(model.state_dict(), 'model.pt')"
   ]
  }
 ],
 "metadata": {
  "kernelspec": {
   "display_name": "selective-long-range-connection-gnn",
   "language": "python",
   "name": "python3"
  },
  "language_info": {
   "codemirror_mode": {
    "name": "ipython",
    "version": 3
   },
   "file_extension": ".py",
   "mimetype": "text/x-python",
   "name": "python",
   "nbconvert_exporter": "python",
   "pygments_lexer": "ipython3",
   "version": "3.10.13"
  }
 },
 "nbformat": 4,
 "nbformat_minor": 2
}
