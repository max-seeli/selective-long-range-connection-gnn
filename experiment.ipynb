{
 "cells": [
  {
   "cell_type": "markdown",
   "metadata": {},
   "source": [
    "# Selective Long-Range Connections in Message Passing Neural Networks\n",
    "In this notebook, we will show that the message passing neural network (MPNN) can be improved upon for problems with a high problem-radius by using a last layer where some select nodes are connected over long distances to nodes otherwise unreachable."
   ]
  },
  {
   "cell_type": "markdown",
   "metadata": {},
   "source": [
    "## Imports"
   ]
  },
  {
   "cell_type": "code",
   "execution_count": null,
   "metadata": {},
   "outputs": [],
   "source": [
    "from itertools import combinations\n",
    "from tqdm import tqdm\n",
    "\n",
    "import torch\n",
    "from torch import nn\n",
    "from torch.nn import functional as F\n",
    "torch.manual_seed(0)\n",
    "\n",
    "from torch_geometric import nn as gnn\n",
    "from torch_geometric.nn import GCNConv\n",
    "from torch_geometric.loader import DataLoader\n",
    "\n",
    "from torchmetrics import AveragePrecision, Accuracy, Precision, Recall, F1Score\n",
    "\n",
    "from sklearn.model_selection import train_test_split"
   ]
  },
  {
   "cell_type": "markdown",
   "metadata": {},
   "source": [
    "## Data"
   ]
  },
  {
   "cell_type": "code",
   "execution_count": null,
   "metadata": {},
   "outputs": [],
   "source": [
    "from torch_geometric.datasets import TUDataset, LRGBDataset\n",
    "\n",
    "dataset = LRGBDataset(root='/tmp/PascalVOC-SP', name='PascalVOC-SP')\n",
    "# dataset = TUDataset(root='/tmp/MUTAG', name='MUTAG')\n",
    "dataset_list = [data for data in dataset]\n",
    "\n",
    "for data in dataset_list:\n",
    "    data.x = data.x.float()\n",
    "\n",
    "train_dataset, test_dataset = train_test_split(dataset_list, test_size=0.2, random_state=42)"
   ]
  },
  {
   "cell_type": "code",
   "execution_count": null,
   "metadata": {},
   "outputs": [],
   "source": [
    "# Make a quick data analysis\n",
    "print(f\"Dataset: {dataset}:\")\n",
    "print(f\"Number of graphs: {len(dataset)}\")\n",
    "print(f\"Number of features: {dataset.num_features}\")\n",
    "print(f\"Number of classes: {dataset.num_classes}\")\n",
    "\n",
    "print(f\"Example nodes shape: {dataset[2].x.shape}\")\n",
    "print(f\"Example edges shape: {dataset[2].edge_index.shape}\")\n",
    "print(f\"Example edge features shape: {dataset[2].edge_attr.shape}\")\n",
    "print(f\"Example target shape: {dataset[2].y.shape}\")"
   ]
  },
  {
   "cell_type": "markdown",
   "metadata": {},
   "source": [
    "## Model"
   ]
  },
  {
   "cell_type": "code",
   "execution_count": null,
   "metadata": {},
   "outputs": [],
   "source": [
    "class SimpleGNN(nn.Module):\n",
    "    \n",
    "    def __init__(self, num_node_features, hidden_channels, dense_input, num_classes, dropout):\n",
    "        super(SimpleGNN, self).__init__()\n",
    "\n",
    "        self.convs = nn.ModuleList()\n",
    "        self.convs.append(GCNConv(num_node_features, hidden_channels[0]))\n",
    "        for i in range(1, len(hidden_channels)):\n",
    "            self.convs.append(GCNConv(hidden_channels[i-1], hidden_channels[i]))\n",
    "        self.convs.append(GCNConv(hidden_channels[-1], num_classes))\n",
    "\n",
    "        # self.dense = nn.Linear(dense_input, num_classes)\n",
    "\n",
    "        self.dropout = dropout\n",
    "\n",
    "\n",
    "    def forward(self, data):\n",
    "        x, edge_index, batch = data.x, data.edge_index, data.batch\n",
    "\n",
    "        for conv in self.convs[:-1]:\n",
    "            x = conv(x, edge_index)\n",
    "            x = F.relu(x)\n",
    "            x = F.dropout(x, p=self.dropout, training=self.training)\n",
    "\n",
    "        x = self.convs[-1](x, edge_index)\n",
    "        # x = F.relu(x)\n",
    "        # x = gnn.global_mean_pool(x, batch)\n",
    "\n",
    "        # x = F.dropout(x, p=self.dropout, training=self.training)\n",
    "        # x = self.dense(x)\n",
    "        return x"
   ]
  },
  {
   "cell_type": "code",
   "execution_count": null,
   "metadata": {},
   "outputs": [],
   "source": [
    "model = SimpleGNN(dataset.num_node_features, [10] * 2, 64, dataset.num_classes, 0.0)\n",
    "\n",
    "train_loader = DataLoader(train_dataset, batch_size=32, shuffle=True)\n",
    "test_loader = DataLoader(test_dataset, batch_size=32, shuffle=False)\n",
    "\n",
    "optimizer = torch.optim.Adam(model.parameters(), lr=0.01, weight_decay=5e-4)\n",
    "criterion = nn.CrossEntropyLoss()\n",
    "\n",
    "def train(epoch):\n",
    "    model.train()\n",
    "\n",
    "    for batch in train_loader:\n",
    "        optimizer.zero_grad()\n",
    "        out = model(batch)\n",
    "        loss = criterion(out, batch.y)\n",
    "        loss.backward()\n",
    "        optimizer.step()\n",
    "\n",
    "def test():\n",
    "    model.eval()\n",
    "\n",
    "    y_pred = []\n",
    "    y_true = []\n",
    "    for batch in test_loader:\n",
    "        out = model(batch)\n",
    "        y_pred.append(out)\n",
    "        y_true.append(batch.y)\n",
    "\n",
    "    y_pred = torch.cat(y_pred, dim=0)\n",
    "    y_true = torch.cat(y_true, dim=0)\n",
    "    \n",
    "    average_precision = AveragePrecision(num_classes=dataset.num_classes, task='multiclass')\n",
    "    accuracy = Accuracy(num_classes=dataset.num_classes, task='multiclass')\n",
    "    precision = Precision(num_classes=dataset.num_classes, task='multiclass')\n",
    "    recall = Recall(num_classes=dataset.num_classes, task='multiclass')\n",
    "    f1 = F1Score(num_classes=dataset.num_classes, task='multiclass')\n",
    "\n",
    "    return average_precision(y_pred, y_true), accuracy(y_pred, y_true), precision(y_pred, y_true), recall(y_pred, y_true), f1(y_pred, y_true)\n",
    "    \n",
    "\n",
    "for epoch in range(1, 201):\n",
    "    train(epoch)\n",
    "    ap, acc, prec, rec, f1 = test()\n",
    "    print(f'Epoch: {epoch:03d}, AP: {ap:.4f}, Accuracy: {acc:.4f}, Precision: {prec:.4f}, Recall: {rec:.4f}, F1: {f1:.4f}')\n",
    "\n",
    "torch.save(model.state_dict(), 'model.pt')"
   ]
  },
  {
   "cell_type": "code",
   "execution_count": null,
   "metadata": {},
   "outputs": [],
   "source": [
    "len(test_loader)"
   ]
  }
 ],
 "metadata": {
  "kernelspec": {
   "display_name": "selective-long-range-connection-gnn",
   "language": "python",
   "name": "python3"
  },
  "language_info": {
   "codemirror_mode": {
    "name": "ipython",
    "version": 3
   },
   "file_extension": ".py",
   "mimetype": "text/x-python",
   "name": "python",
   "nbconvert_exporter": "python",
   "pygments_lexer": "ipython3",
   "version": "3.10.13"
  }
 },
 "nbformat": 4,
 "nbformat_minor": 2
}
