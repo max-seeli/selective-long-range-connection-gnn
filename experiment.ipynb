{
  "cells": [
    {
      "cell_type": "markdown",
      "metadata": {
        "id": "cpQFIXWIxIww"
      },
      "source": [
        "# Selective Long-Range Connections in Message Passing Neural Networks\n",
        "In this notebook, we will show that the message passing neural network (MPNN) can be improved upon for problems with a high problem-radius by using a last layer where some select nodes are connected over long distances to nodes otherwise unreachable."
      ]
    },
    {
      "cell_type": "markdown",
      "metadata": {
        "id": "OjcxLunexIwx"
      },
      "source": [
        "## Imports"
      ]
    },
    {
      "cell_type": "code",
      "execution_count": 1,
      "metadata": {
        "colab": {
          "base_uri": "https://localhost:8080/"
        },
        "id": "26WjoP9X6vzy",
        "outputId": "6d77acab-0e7e-48d5-dead-d9d73d4a78da"
      },
      "outputs": [],
      "source": [
        "#!pip install -q git+https://github.com/pyg-team/pytorch_geometric.git\n",
        "#!pip install torchmetrics\n",
        "#!wget https://raw.githubusercontent.com/max-seeli/selective-long-range-connection-gnn/main/slrc.py"
      ]
    },
    {
      "cell_type": "code",
      "execution_count": 2,
      "metadata": {
        "colab": {
          "base_uri": "https://localhost:8080/",
          "height": 524
        },
        "id": "yiDapOslxIwy",
        "outputId": "e4efde74-6ddb-485a-b54d-c233cbddd010"
      },
      "outputs": [
        {
          "name": "stderr",
          "output_type": "stream",
          "text": [
            "/home/maxl/anaconda3/envs/selective-long-range-connection-gnn/lib/python3.10/site-packages/tqdm/auto.py:21: TqdmWarning: IProgress not found. Please update jupyter and ipywidgets. See https://ipywidgets.readthedocs.io/en/stable/user_install.html\n",
            "  from .autonotebook import tqdm as notebook_tqdm\n"
          ]
        },
        {
          "name": "stdout",
          "output_type": "stream",
          "text": [
            "Device: cpu\n"
          ]
        }
      ],
      "source": [
        "from itertools import combinations\n",
        "from tqdm import tqdm\n",
        "\n",
        "import torch\n",
        "from torch import nn\n",
        "from torch.nn import functional as F\n",
        "torch.manual_seed(0)\n",
        "device = torch.device('cuda' if torch.cuda.is_available() else 'cpu')\n",
        "print(\"Device:\", device)\n",
        "\n",
        "from torch_geometric import nn as gnn\n",
        "from torch_geometric.nn import GCNConv\n",
        "from torch_geometric.loader import DataLoader\n",
        "\n",
        "from torchmetrics import MeanSquaredError, MeanAbsoluteError\n",
        "\n",
        "from sklearn.model_selection import KFold\n",
        "\n",
        "import slrc\n",
        "import utils\n",
        "utils.seed_everything(42)"
      ]
    },
    {
      "cell_type": "markdown",
      "metadata": {
        "id": "uyZ5xwi4xIwy"
      },
      "source": [
        "## Data"
      ]
    },
    {
      "cell_type": "code",
      "execution_count": 3,
      "metadata": {
        "colab": {
          "base_uri": "https://localhost:8080/",
          "height": 411
        },
        "id": "kaJ7WQASxIwz",
        "outputId": "cd9fefcf-86f1-489c-d3c4-042f4f042c56"
      },
      "outputs": [
        {
          "name": "stderr",
          "output_type": "stream",
          "text": [
            "Processing...\n",
            "Processing train dataset: 100%|██████████| 10000/10000 [02:22<00:00, 70.23it/s]\n",
            "Processing val dataset: 100%|██████████| 1000/1000 [00:05<00:00, 181.33it/s]\n",
            "Processing test dataset: 100%|██████████| 1000/1000 [00:05<00:00, 190.54it/s]\n",
            "Done!\n"
          ]
        }
      ],
      "source": [
        "from torch_geometric.datasets import ZINC\n",
        "\n",
        "def data_preprocessing(data):\n",
        "    data.x = data.x.float()\n",
        "\n",
        "    # Note: it is important for the graph mini-batch, that 'index' is contained in the name.\n",
        "    data.k_hop_edge_index = slrc.create_k_hop_graph(data, k=3).edge_index\n",
        "\n",
        "    data.to(device)\n",
        "    return data\n",
        "\n",
        "dataset = ZINC(root='/tmp/ZINC', subset=True, split='train', pre_transform=data_preprocessing)\n",
        "val_dataset = ZINC(root='/tmp/ZINC', subset=True, split='val', pre_transform=data_preprocessing)\n",
        "test_dataset = ZINC(root='/tmp/ZINC', subset=True, split='test', pre_transform=data_preprocessing)"
      ]
    },
    {
      "cell_type": "code",
      "execution_count": 4,
      "metadata": {},
      "outputs": [
        {
          "name": "stdout",
          "output_type": "stream",
          "text": [
            "Example features:\n",
            "tensor([[0.],\n",
            "        [1.],\n",
            "        [0.],\n",
            "        [0.],\n",
            "        [0.],\n",
            "        [0.],\n",
            "        [0.],\n",
            "        [0.],\n",
            "        [0.],\n",
            "        [1.],\n",
            "        [0.],\n",
            "        [0.],\n",
            "        [2.],\n",
            "        [0.],\n",
            "        [0.],\n",
            "        [2.],\n",
            "        [5.],\n",
            "        [1.],\n",
            "        [1.],\n",
            "        [0.],\n",
            "        [0.],\n",
            "        [2.],\n",
            "        [0.],\n",
            "        [0.],\n",
            "        [0.],\n",
            "        [0.],\n",
            "        [0.],\n",
            "        [0.],\n",
            "        [0.]])\n",
            "Example label:\n",
            "tensor([0.8350])\n"
          ]
        }
      ],
      "source": [
        "# Inspect example features and labels\n",
        "print(\"Example features:\")\n",
        "print(dataset[0].x)\n",
        "\n",
        "print(\"Example label:\")\n",
        "print(dataset[0].y)"
      ]
    },
    {
      "cell_type": "markdown",
      "metadata": {
        "id": "x0ZHaiOCxIw0"
      },
      "source": [
        "## Model"
      ]
    },
    {
      "cell_type": "code",
      "execution_count": 5,
      "metadata": {
        "id": "zF4v6OckxIw0"
      },
      "outputs": [],
      "source": [
        "class SimpleGNN(nn.Module):\n",
        "\n",
        "    def __init__(self, num_node_features, hidden_channels, transfer_size, dense_layers, num_classes, dropout):\n",
        "        super(SimpleGNN, self).__init__()\n",
        "\n",
        "        self.convs = nn.ModuleList()\n",
        "        self.convs.append(GCNConv(num_node_features, hidden_channels[0]))\n",
        "        for i in range(1, len(hidden_channels)):\n",
        "            self.convs.append(GCNConv(hidden_channels[i-1], hidden_channels[i]))\n",
        "        self.convs.append(GCNConv(hidden_channels[-1], transfer_size))\n",
        "\n",
        "        self.dense = nn.ModuleList()\n",
        "        self.dense.append(nn.Linear(transfer_size, dense_layers[0]))\n",
        "        for i in range(1, len(dense_layers)):\n",
        "            self.dense.append(nn.Linear(dense_layers[i-1], dense_layers[i]))\n",
        "        self.dense.append(nn.Linear(dense_layers[-1], num_classes))\n",
        "\n",
        "        self.dropout = dropout\n",
        "\n",
        "    def forward(self, data):\n",
        "        x, edge_index, batch = data.x, data.edge_index, data.batch\n",
        "\n",
        "        for conv in self.convs[:-1]:\n",
        "            x = conv(x, edge_index)\n",
        "            x = F.relu(x)\n",
        "            x = F.dropout(x, p=self.dropout, training=self.training)\n",
        "\n",
        "        x = self.convs[-1](x, self.get_last_layer_edge_index(data))\n",
        "        x = F.relu(x)\n",
        "        x = gnn.global_mean_pool(x, batch)\n",
        "\n",
        "        for dense in self.dense[:-1]:\n",
        "            x = dense(x)\n",
        "            x = F.relu(x)\n",
        "            x = F.dropout(x, p=self.dropout, training=self.training)\n",
        "\n",
        "        x = self.dense[-1](x)\n",
        "\n",
        "        return x.squeeze(-1)\n",
        "\n",
        "    def get_last_layer_edge_index(self, data):\n",
        "        return data.edge_index"
      ]
    },
    {
      "cell_type": "code",
      "execution_count": 6,
      "metadata": {
        "id": "dBdtIXuoAhea"
      },
      "outputs": [],
      "source": [
        "class SlrcGNN(SimpleGNN):\n",
        "\n",
        "    def get_last_layer_edge_index(self, data):\n",
        "        return data.k_hop_edge_index"
      ]
    },
    {
      "cell_type": "code",
      "execution_count": 10,
      "metadata": {
        "id": "0bZJZl2dxIw1"
      },
      "outputs": [],
      "source": [
        "def train(model, train_loader, optimizer, criterion, epoch):\n",
        "    model.train()\n",
        "\n",
        "    for batch in train_loader:\n",
        "        optimizer.zero_grad()\n",
        "        out = model(batch)\n",
        "        loss = criterion(out, batch.y.float())\n",
        "        loss.backward()\n",
        "        optimizer.step()\n",
        "\n",
        "def test(model, test_loader):\n",
        "    model.eval()\n",
        "\n",
        "    mse = MeanSquaredError().to(device)\n",
        "    mae = MeanAbsoluteError().to(device)\n",
        "    for batch in test_loader:\n",
        "        out = model(batch)\n",
        "        mse(out, batch.y)\n",
        "        mae(out, batch.y)\n",
        "    return mse.compute(), mae.compute()\n",
        "\n",
        "\n",
        "def eval(dataset, isSelective, params, k=5):\n",
        "\n",
        "    kfold = KFold(n_splits=k, shuffle=True, random_state=42)\n",
        "\n",
        "    fold_maes = []\n",
        "    for fold, (train_idx, val_idx) in enumerate(kfold.split(dataset)):\n",
        "        print(f'@ Fold {fold}')\n",
        "        train_subset = torch.utils.data.Subset(dataset, train_idx)\n",
        "        val_subset = torch.utils.data.Subset(dataset, val_idx)\n",
        "\n",
        "        train_loader = DataLoader(train_subset, batch_size=params['batch_size'], shuffle=True)\n",
        "        val_loader = DataLoader(val_subset, batch_size=params['batch_size'], shuffle=False)\n",
        "\n",
        "        fold_model = SlrcGNN(**params['model']) if isSelective else SimpleGNN(**params['model'])\n",
        "        fold_model.to(device)\n",
        "\n",
        "        optimizer = torch.optim.Adam(fold_model.parameters(), lr=params['lr'], weight_decay=params['weight_decay'])\n",
        "        criterion = nn.MSELoss()\n",
        "\n",
        "\n",
        "        best_mae = float('inf')\n",
        "        for epoch in range(1, params['epochs'] + 1):\n",
        "            train(fold_model, train_loader, optimizer, criterion, epoch)\n",
        "\n",
        "            with torch.no_grad():\n",
        "                test_mse, test_mae = test(fold_model, val_loader)\n",
        "                best_mae = min(best_mae, test_mae)\n",
        "                print(f'Epoch: {epoch:03d}, Test MSE: {test_mse:.4f}, Test MAE: {test_mae:.4f}')\n",
        "\n",
        "            torch.cuda.empty_cache()\n",
        "\n",
        "        fold_maes.append(best_mae)\n",
        "        print()\n",
        "\n",
        "    return min(fold_maes), sum(fold_maes) / len(fold_maes), fold_maes"
      ]
    },
    {
      "cell_type": "code",
      "execution_count": 8,
      "metadata": {
        "id": "htNF9CEP5i1J"
      },
      "outputs": [],
      "source": [
        "params = {\n",
        "    'model': {\n",
        "        'num_node_features': dataset.num_node_features,\n",
        "        'hidden_channels': [64] * 2,\n",
        "        'transfer_size': 64,\n",
        "        'dense_layers': [64],\n",
        "        'num_classes': 1,\n",
        "        'dropout': 0.0\n",
        "    },\n",
        "    'lr': 0.001,\n",
        "    'weight_decay': 5e-4,\n",
        "    'epochs': 200,\n",
        "    'batch_size': 32\n",
        "}"
      ]
    },
    {
      "cell_type": "code",
      "execution_count": 9,
      "metadata": {
        "id": "QUfIS0Qa6AIn"
      },
      "outputs": [],
      "source": [
        "best_slrc, avg_slrc, all_slrc = eval(dataset, True, params)\n",
        "print('-' * 64)\n",
        "print(f'Best: {best_slrc}, Avg: {avg_slrc}, Per fold: {all_slrc}')"
      ]
    },
    {
      "cell_type": "code",
      "execution_count": null,
      "metadata": {
        "id": "hg3TpJ7j6gXb"
      },
      "outputs": [],
      "source": [
        "best_simple, avg_simple, all_simple = eval(dataset, False, params)\n",
        "print('-' * 64)\n",
        "print(f'Best: {best_simple}, Avg: {avg_simple}, Per fold: {all_simple}')"
      ]
    }
  ],
  "metadata": {
    "accelerator": "GPU",
    "colab": {
      "gpuType": "T4",
      "provenance": []
    },
    "kernelspec": {
      "display_name": "Python 3",
      "name": "python3"
    },
    "language_info": {
      "codemirror_mode": {
        "name": "ipython",
        "version": 3
      },
      "file_extension": ".py",
      "mimetype": "text/x-python",
      "name": "python",
      "nbconvert_exporter": "python",
      "pygments_lexer": "ipython3",
      "version": "3.10.13"
    }
  },
  "nbformat": 4,
  "nbformat_minor": 0
}
